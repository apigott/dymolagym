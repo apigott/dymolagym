{
 "cells": [
  {
   "cell_type": "code",
   "execution_count": 2,
   "metadata": {},
   "outputs": [],
   "source": [
    "import logging\n",
    "logger = logging.getLogger()\n",
    "logger.setLevel(logging.DEBUG)\n",
    "\n",
    "# from stable_baselines3.sac.policies import MlpPolicy\n",
    "# from stable_baselines3.common.vec_env import DummyVecEnv\n",
    "# from stable_baselines3 import SAC\n",
    "import logging\n",
    "import gym\n",
    "import numpy as np\n",
    "import os\n",
    "import matplotlib.pyplot as plt\n",
    "import DyMat\n",
    "import modelicagym"
   ]
  },
  {
   "cell_type": "code",
   "execution_count": 2,
   "metadata": {},
   "outputs": [],
   "source": [
    "import ray"
   ]
  },
  {
   "cell_type": "code",
   "execution_count": null,
   "metadata": {
    "scrolled": true
   },
   "outputs": [],
   "source": [
    "env_name = \"MicrogridEnv-v2\" \n",
    "\n",
    "# create the environment. this will run an initial step and must return [True, [...]] or something is broken\n",
    "# TODO: create error handling/warnings if simulations don't work (i.e. returns [False], [...])\n",
    "env = gym.make(env_name)"
   ]
  },
  {
   "cell_type": "code",
   "execution_count": null,
   "metadata": {},
   "outputs": [],
   "source": [
    "model = SAC(MlpPolicy, env, learning_rate=10**-5, ent_coef='auto_0.1', verbose=1, tensorboard_log='tensorboard_log', batch_size=64)\n",
    "\n",
    "env.reset()\n",
    "for _ in range(10):\n",
    "    model.learn(1000, reset_num_timesteps=False)\n",
    "    "
   ]
  },
  {
   "cell_type": "code",
   "execution_count": null,
   "metadata": {},
   "outputs": [],
   "source": [
    "env.dymola.close()"
   ]
  },
  {
   "cell_type": "code",
   "execution_count": null,
   "metadata": {},
   "outputs": [],
   "source": [
    "model_name= 'test'\n",
    "model.save(model_name)"
   ]
  },
  {
   "cell_type": "code",
   "execution_count": null,
   "metadata": {
    "scrolled": true
   },
   "outputs": [],
   "source": [
    "for _ in range(2):\n",
    "    env.step(env.default_action)"
   ]
  },
  {
   "cell_type": "code",
   "execution_count": null,
   "metadata": {
    "scrolled": true
   },
   "outputs": [],
   "source": [
    "env.dymola.getLastError()"
   ]
  },
  {
   "cell_type": "code",
   "execution_count": null,
   "metadata": {},
   "outputs": [],
   "source": [
    "x = np.divide(env.debug_data[\"my_time\"],3600)\n",
    "leg = [\"stadium.P\",\"macky.P\", \"hellums.P\",\"umc.P\", \"chw_plant.P\",\"ec.P\", \"kitt.P\",\"quad.P\"]\n",
    "\n",
    "for l in leg:\n",
    "    plt.plot(x,np.multiply(env.debug_data[l],100))\n",
    "plt.xlim(0,48)\n",
    "\n",
    "plt.ylabel(\"P_cons (MW)\")\n",
    "plt.xlabel('Time (Hours)')\n",
    "#plt.plot(x,env.debug_data['irradiance_to_Power.irradiance_out'])"
   ]
  },
  {
   "cell_type": "code",
   "execution_count": null,
   "metadata": {},
   "outputs": [],
   "source": [
    "x = np.divide(env.debug_data[\"my_time\"],3600)\n",
    "leg = [\"stadium.v\", \"GRID.V\", \"macky.v\", \"hellums.v\", \"umc.v\", \"quad.v\", \"chw_plant.v\", \"ec.v\", \"kitt.v\", \"CENTRAL_bus.V\"]\n",
    "\n",
    "for l in leg:\n",
    "    plt.plot(x,env.debug_data[l])\n",
    "plt.xlim(0,48)\n",
    "\n",
    "plt.ylabel(\"Voltage (p.u)\")\n",
    "plt.xlabel('Time (Hours)')\n",
    "plt.ylim(0.94,1.06)\n",
    "# plt.ylim(0.995,0.996)"
   ]
  },
  {
   "cell_type": "code",
   "execution_count": null,
   "metadata": {},
   "outputs": [],
   "source": [
    "import pandas as pd"
   ]
  },
  {
   "cell_type": "code",
   "execution_count": null,
   "metadata": {},
   "outputs": [],
   "source": [
    "import matplotlib.pyplot as plt\n",
    "loads = pd.read_csv('loads.csv')\n",
    "xax = np.arange(700)/24\n",
    "for x in range(1,9):\n",
    "    plt.plot(xax, loads[f'{x}_est'].iloc[:700])\n",
    "    \n",
    "plt.xlabel('Hours')\n",
    "plt.ylabel('kW')"
   ]
  },
  {
   "cell_type": "code",
   "execution_count": null,
   "metadata": {},
   "outputs": [],
   "source": [
    "len(loads['1_est'])"
   ]
  },
  {
   "cell_type": "code",
   "execution_count": null,
   "metadata": {},
   "outputs": [],
   "source": [
    "solar = pd.read_csv('coors_pv.csv')"
   ]
  },
  {
   "cell_type": "code",
   "execution_count": null,
   "metadata": {},
   "outputs": [],
   "source": [
    "solar['Date & Time'] = pd.to_datetime(solar['Date & Time'], format='%m/%d/%Y %H:%M')"
   ]
  },
  {
   "cell_type": "code",
   "execution_count": null,
   "metadata": {},
   "outputs": [],
   "source": [
    "(solar['Date & Time'].dt.hour).idxmin()"
   ]
  },
  {
   "cell_type": "code",
   "execution_count": null,
   "metadata": {},
   "outputs": [],
   "source": []
  }
 ],
 "metadata": {
  "kernelspec": {
   "display_name": "Python [conda env:.conda-myenv]",
   "language": "python",
   "name": "conda-env-.conda-myenv-py"
  },
  "language_info": {
   "codemirror_mode": {
    "name": "ipython",
    "version": 3
   },
   "file_extension": ".py",
   "mimetype": "text/x-python",
   "name": "python",
   "nbconvert_exporter": "python",
   "pygments_lexer": "ipython3",
   "version": "3.9.2"
  }
 },
 "nbformat": 4,
 "nbformat_minor": 5
}
