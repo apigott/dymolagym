{
 "cells": [
  {
   "cell_type": "code",
   "execution_count": 14,
   "metadata": {},
   "outputs": [],
   "source": [
    "import pandapower as pp\n",
    "import numpy as np"
   ]
  },
  {
   "cell_type": "code",
   "execution_count": 15,
   "metadata": {},
   "outputs": [],
   "source": [
    "microgrid = pp.create_empty_network(name=\"cub_campus\")\n",
    "high_voltage = 23\n",
    "low_voltage = 13.8\n",
    "\n",
    "# Xcel energy operates at 13.8kV for distribution\n",
    "grid_bus1 = pp.create_bus(microgrid, name=\"GRID_bus1\", vn_kv=high_voltage,geodata=(0,0))\n",
    "#grid_bus2 = pp.create_bus(microgrid, name=\"GRID_bus2\", vn_kv=high_voltage)\n",
    "lv_bus1 = pp.create_bus(microgrid, name=\"LV_bus1\", vn_kv=low_voltage, type=\"n\",geodata=(0.5,0))\n",
    "sb_bus1 = pp.create_bus(microgrid, name=\"SB_bus1\", vn_kv=low_voltage, type=\"n\",geodata=(1,0))\n",
    "multidomain_bus = pp.create_bus(microgrid, name=\"MultiDomain_bus\", vn_kv=low_voltage, type=\"n\",geodata=(1,0.5))\n",
    "central_bus = pp.create_bus(microgrid, name=\"CENTRAL_bus\", vn_kv=low_voltage,geodata=(1.5,0))\n",
    "pv_bus = pp.create_bus(microgrid, name=\"PV_bus\", vn_kv=low_voltage,geodata=(2,0.5))\n",
    "bess_bus = pp.create_bus(microgrid, name=\"BESS_bus\", vn_kv=low_voltage, type=\"n\",geodata=(2,1))\n",
    "gen_bus = pp.create_bus(microgrid, name=\"Gen_bus\", vn_kv=low_voltage, type=\"n\",geodata=(0.5,0.5))\n",
    "sec1 = pp.create_bus(microgrid, name=\"sec1\", vn_kv=low_voltage, type=\"n\",geodata=(3,1))\n",
    "sec2 = pp.create_bus(microgrid, name=\"sec2\", vn_kv=low_voltage, type=\"n\",geodata=(3,-1))\n",
    "load1 = pp.create_bus(microgrid, name=\"macky\", vn_kv=low_voltage, type=\"n\",geodata=(3.5,1.3))\n",
    "load2 = pp.create_bus(microgrid, name=\"hellums\", vn_kv=low_voltage, type=\"n\",geodata=(3.5,0.7))\n",
    "load3 = pp.create_bus(microgrid, name=\"stadium\", vn_kv=low_voltage, type=\"n\",geodata=(3,0))\n",
    "load4 = pp.create_bus(microgrid, name=\"bookstore\", vn_kv=low_voltage, type=\"n\",geodata=(4,1))\n",
    "load5 = pp.create_bus(microgrid, name=\"quad\", vn_kv=low_voltage, type=\"n\",geodata=(3.5,-0.7))\n",
    "load6 = pp.create_bus(microgrid, name=\"ec\", vn_kv=low_voltage, type=\"n\",geodata=(3.5,-1.3))\n",
    "load7 = pp.create_bus(microgrid, name=\"chw_plant\", vn_kv=low_voltage, type=\"n\",geodata=(4,-0.7))\n",
    "load8 = pp.create_bus(microgrid, name=\"kitt\", vn_kv=low_voltage, type=\"n\",geodata=(4,-1.3))\n",
    "\n",
    "buses = [grid_bus1, lv_bus1, sb_bus1, multidomain_bus, central_bus, pv_bus, bess_bus, sec1, sec2, load1, load2, load3, load4, load5, load6, load7, load8, gen_bus]\n",
    "conns = [[1,2],[2,4],[3,4],[4,5],[4,6],[4,7],[4,11],[4,8],[7,9],[7,12],[9,10],[10,12],[8,13],[8,15],[13,14],[14,16],[16,15],[3,17]]\n",
    "for conn in conns:\n",
    "    pp.create_line(microgrid, buses[conn[0]], buses[conn[1]], 0.5, std_type=\"N2XS(FL)2Y 1x300 RM/35 64/110 kV\")\n",
    "\n",
    "main_campus = pp.create_ext_grid(microgrid, grid_bus1, vm_pu=1.02, va_degree=50)\n",
    "main_transformer = pp.create_transformer_from_parameters(microgrid, grid_bus1, lv_bus1, 2000, high_voltage, low_voltage, 0.25, 10, 0.48, 0.06)\n",
    "main_gen = pp.create_gen(microgrid, gen_bus, p_mw=3.5)\n",
    "pv_gen = pp.create_gen(microgrid, pv_bus, p_mw=0)\n",
    "\n",
    "ps = [347.648998,189.584781,4337.210930,1923.991871,3396.980054,796.892406,972.234648,1028.719053]\n",
    "ls = [load1, load2, load3, load4, load5, load6, load7, load8]\n",
    "for l in range(len(ls)):\n",
    "    p = ps[l] * 0.001\n",
    "    s = p * np.tan(np.arccos(np.random.uniform(0.85,0.95)))\n",
    "    pp.create_load(microgrid, ls[l], p_mw=p, q_mvar=s, const_i_percent=1, const_z_percent=3)\n",
    "    \n",
    "pp.runpp(microgrid)"
   ]
  },
  {
   "cell_type": "code",
   "execution_count": 16,
   "metadata": {},
   "outputs": [],
   "source": [
    "v_b = 13800\n",
    "s_b = 10**6 \n",
    "z_b = (v_b**2)/s_b\n",
    "microgrid.line['pu_r'] = microgrid.line['r_ohm_per_km'] / z_b\n",
    "microgrid.line['pu_z'] = microgrid.line['x_ohm_per_km'] / z_b"
   ]
  },
  {
   "cell_type": "code",
   "execution_count": 17,
   "metadata": {},
   "outputs": [],
   "source": [
    "import pandas as pd\n",
    "x = pd.merge(microgrid.bus, microgrid.res_bus, left_index=True, right_index=True)"
   ]
  },
  {
   "cell_type": "code",
   "execution_count": 18,
   "metadata": {},
   "outputs": [],
   "source": [
    "for i in ['vm_pu','va_degree']:\n",
    "    x[f'data_record_{i[:2]}'] = f\"parameter Real {i[:2]}_\"+x['name']+\"=\"+x[i].astype(str)+\";\""
   ]
  },
  {
   "cell_type": "code",
   "execution_count": 19,
   "metadata": {
    "scrolled": true
   },
   "outputs": [
    {
     "name": "stdout",
     "output_type": "stream",
     "text": [
      "                    parameter Real vm_GRID_bus1=1.02;\n",
      "        parameter Real vm_LV_bus1=1.0190648100614927;\n",
      "         parameter Real vm_SB_bus1=1.010819370014292;\n",
      "parameter Real vm_MultiDomain_bus=1.0012850847903674;\n",
      "     parameter Real vm_CENTRAL_bus=1.002572878494832;\n",
      "                        parameter Real vm_PV_bus=1.0;\n",
      "       parameter Real vm_BESS_bus=1.0025736948913524;\n",
      "        parameter Real vm_Gen_bus=0.9999999999999997;\n",
      "            parameter Real vm_sec1=1.001685961237111;\n",
      "           parameter Real vm_sec2=1.0006726870071982;\n",
      "          parameter Real vm_macky=1.0013832665083136;\n",
      "        parameter Real vm_hellums=1.0012066717131891;\n",
      "        parameter Real vm_stadium=1.0009736268684934;\n",
      "       parameter Real vm_bookstore=1.001099693942596;\n",
      "           parameter Real vm_quad=0.9995404171689984;\n",
      "              parameter Real vm_ec=0.999384459103874;\n",
      "      parameter Real vm_chw_plant=0.9999052454152928;\n",
      "           parameter Real vm_kitt=0.9994567822674191;\n",
      "                        parameter Real va_GRID_bus1=0.0;\n",
      "         parameter Real va_LV_bus1=-0.02531367587556323;\n",
      "         parameter Real va_SB_bus1=-0.06892545434844635;\n",
      "parameter Real va_MultiDomain_bus=0.0058923050580906655;\n",
      "     parameter Real va_CENTRAL_bus=-0.11321542984234376;\n",
      "          parameter Real va_PV_bus=-0.05196373865721775;\n",
      "         parameter Real va_BESS_bus=-0.1132348698581772;\n",
      "          parameter Real va_Gen_bus=0.12534542018005046;\n",
      "            parameter Real va_sec1=-0.15443151366217803;\n",
      "            parameter Real va_sec2=-0.22509193594255691;\n",
      "            parameter Real va_macky=-0.1684236705686938;\n",
      "         parameter Real va_hellums=-0.17661218136102597;\n",
      "         parameter Real va_stadium=-0.18503389503042916;\n",
      "        parameter Real va_bookstore=-0.1816537727911639;\n",
      "             parameter Real va_quad=-0.2947229765437405;\n",
      "               parameter Real va_ec=-0.3012975816329816;\n",
      "       parameter Real va_chw_plant=-0.26760286596073896;\n",
      "             parameter Real va_kitt=-0.2930433516531456;\n"
     ]
    }
   ],
   "source": [
    "print(x.to_string(columns=['data_record_vm'],index=False,header=False))\n",
    "print(x.to_string(columns=['data_record_va'],index=False,header=False))"
   ]
  },
  {
   "cell_type": "code",
   "execution_count": null,
   "metadata": {},
   "outputs": [],
   "source": [
    "x = pd.merge(microgrid.load.drop(['p_mw','q_mvar'],axis=1), microgrid.res_load, left_index=True, right_index=True)\n",
    "x['name'] = (x.index+1).astype(str)"
   ]
  },
  {
   "cell_type": "code",
   "execution_count": null,
   "metadata": {},
   "outputs": [],
   "source": [
    "for i in ['p_mw','q_mvar']:\n",
    "    x[f'data_record_{i[:1]}'] = f\"parameter Real {i[:1]}_load\"+x['name']+\"=\"+x[i].astype(str)+\";\""
   ]
  },
  {
   "cell_type": "code",
   "execution_count": null,
   "metadata": {
    "scrolled": true
   },
   "outputs": [],
   "source": [
    "print(x.to_string(columns=['data_record_p'],index=False,header=False))\n",
    "print(x.to_string(columns=['data_record_q'],index=False,header=False))"
   ]
  },
  {
   "cell_type": "code",
   "execution_count": null,
   "metadata": {},
   "outputs": [],
   "source": [
    "microgrid.line['name'] = microgrid.bus.iloc[microgrid.line['to_bus']]['name'].values + \"_\" + microgrid.bus.iloc[microgrid.line['from_bus']]['name'].values\n",
    "microgrid.line['r'] = microgrid.line['length_km'] * microgrid.line['r_ohm_per_km']\n",
    "microgrid.line['x'] = microgrid.line['length_km'] * microgrid.line['x_ohm_per_km']\n",
    "microgrid.line['data_record_r'] = \"parameter Real \" + microgrid.line['name'] + \"_r=\" + microgrid.line['r_ohm_per_km'].astype(str) + \";\"\n",
    "microgrid.line['data_record_x'] = \"parameter Real \" + microgrid.line['name'] + \"_x=\" + microgrid.line['x_ohm_per_km'].astype(str) + \";\""
   ]
  },
  {
   "cell_type": "code",
   "execution_count": null,
   "metadata": {
    "scrolled": true
   },
   "outputs": [],
   "source": [
    "print(microgrid.line.to_string(columns=['data_record_r'],index=False,header=False))\n",
    "print(microgrid.line.to_string(columns=['data_record_x'],index=False,header=False))"
   ]
  },
  {
   "cell_type": "code",
   "execution_count": 25,
   "metadata": {},
   "outputs": [],
   "source": [
    "import pandapower as pp\n",
    "import math\n",
    "from pandapower.pf.runpp_3ph import runpp_3ph\n",
    "\n",
    "microgrid = pp.create_empty_network(name=\"cub_campus\")\n",
    "\n",
    "# Xcel energy operates at 13.8kV for distribution\n",
    "grid_bus1 = pp.create_bus(microgrid, name=\"GRID_bus1\", vn_kv=high_voltage,geodata=(0,0))\n",
    "#grid_bus2 = pp.create_bus(microgrid, name=\"GRID_bus2\", vn_kv=high_voltage)\n",
    "lv_bus1 = pp.create_bus(microgrid, name=\"LV_bus1\", vn_kv=low_voltage, type=\"n\",geodata=(0.5,0))\n",
    "sb_bus1 = pp.create_bus(microgrid, name=\"SB_bus1\", vn_kv=low_voltage, type=\"n\",geodata=(1,0))\n",
    "multidomain_bus = pp.create_bus(microgrid, name=\"MultiDomain_bus\", vn_kv=low_voltage, type=\"n\",geodata=(1,0.5))\n",
    "central_bus = pp.create_bus(microgrid, name=\"CENTRAL_bus\", vn_kv=low_voltage,geodata=(1.5,0))\n",
    "pv_bus = pp.create_bus(microgrid, name=\"PV_bus\", vn_kv=low_voltage,geodata=(2,0.5))\n",
    "bess_bus = pp.create_bus(microgrid, name=\"BESS_bus\", vn_kv=low_voltage, type=\"n\",geodata=(2,1))\n",
    "gen_bus = pp.create_bus(microgrid, name=\"Gen_bus\", vn_kv=low_voltage, type=\"n\",geodata=(0.5,0.5))\n",
    "sec1 = pp.create_bus(microgrid, name=\"sec1\", vn_kv=low_voltage, type=\"n\",geodata=(3,1))\n",
    "sec2 = pp.create_bus(microgrid, name=\"sec2\", vn_kv=low_voltage, type=\"n\",geodata=(3,-1))\n",
    "load1 = pp.create_bus(microgrid, name=\"macky\", vn_kv=low_voltage, type=\"n\",geodata=(3.5,1.3))\n",
    "load2 = pp.create_bus(microgrid, name=\"hellums\", vn_kv=low_voltage, type=\"n\",geodata=(3.5,0.7))\n",
    "load3 = pp.create_bus(microgrid, name=\"stadium\", vn_kv=low_voltage, type=\"n\",geodata=(3,0))\n",
    "load4 = pp.create_bus(microgrid, name=\"bookstore\", vn_kv=low_voltage, type=\"n\",geodata=(4,1))\n",
    "load5 = pp.create_bus(microgrid, name=\"quad\", vn_kv=low_voltage, type=\"n\",geodata=(3.5,-0.7))\n",
    "load6 = pp.create_bus(microgrid, name=\"ec\", vn_kv=low_voltage, type=\"n\",geodata=(3.5,-1.3))\n",
    "load7 = pp.create_bus(microgrid, name=\"chw_plant\", vn_kv=low_voltage, type=\"n\",geodata=(4,-0.7))\n",
    "load8 = pp.create_bus(microgrid, name=\"kitt\", vn_kv=low_voltage, type=\"n\",geodata=(4,-1.3))"
   ]
  },
  {
   "cell_type": "code",
   "execution_count": 26,
   "metadata": {},
   "outputs": [],
   "source": [
    "buses = [grid_bus1, lv_bus1, sb_bus1, multidomain_bus, central_bus, pv_bus, bess_bus, sec1, sec2, load1, load2, load3, load4, load5, load6, load7, load8, gen_bus]\n",
    "conns = [[1,2],[2,4],[3,4],[4,5],[4,6],[4,7],[4,11],[4,8],[7,9],[7,12],[9,10],[10,12],[8,13],[8,15],[13,14],[14,16],[16,15],[3,17]]\n",
    "\n",
    "for conn in conns:\n",
    "    pp.create_line_from_parameters(microgrid, from_bus=buses[conn[0]], to_bus=buses[conn[1]], length_km=1, r_ohm_per_km=0.642, x_ohm_per_km=0.083, c_nf_per_km=210, max_i_ka=0.142, r0_ohm_per_km=1, c0_nf_per_km=1, x0_ohm_per_km=1)\n"
   ]
  },
  {
   "cell_type": "code",
   "execution_count": 27,
   "metadata": {},
   "outputs": [
    {
     "ename": "KeyError",
     "evalue": "'res_gen_3ph'",
     "output_type": "error",
     "traceback": [
      "\u001b[1;31m-------------------------------------------------------------------\u001b[0m",
      "\u001b[1;31mKeyError\u001b[0m                          Traceback (most recent call last)",
      "\u001b[1;32m~\\AppData\\Local\\Temp/ipykernel_5764/777374411.py\u001b[0m in \u001b[0;36m<module>\u001b[1;34m\u001b[0m\n\u001b[0;32m     14\u001b[0m     \u001b[1;31m#pp.create_load(microgrid, ls[l], p_mw=ps[l], q_mvar=qs[l], const_i_percent=1, const_z_percent=3)\u001b[0m\u001b[1;33m\u001b[0m\u001b[1;33m\u001b[0m\u001b[0m\n\u001b[0;32m     15\u001b[0m \u001b[1;33m\u001b[0m\u001b[0m\n\u001b[1;32m---> 16\u001b[1;33m \u001b[0mrunpp_3ph\u001b[0m\u001b[1;33m(\u001b[0m\u001b[0mmicrogrid\u001b[0m\u001b[1;33m)\u001b[0m\u001b[1;33m\u001b[0m\u001b[1;33m\u001b[0m\u001b[0m\n\u001b[0m",
      "\u001b[1;32m~\\AppData\\Roaming\\Python\\Python39\\site-packages\\pandapower\\pf\\runpp_3ph.py\u001b[0m in \u001b[0;36mrunpp_3ph\u001b[1;34m(net, calculate_voltage_angles, init, max_iteration, tolerance_mva, trafo_model, trafo_loading, enforce_q_lims, numba, recycle, check_connectivity, switch_rx_ratio, delta_q, v_debug, **kwargs)\u001b[0m\n\u001b[0;32m    581\u001b[0m     \u001b[0mppc2\u001b[0m \u001b[1;33m=\u001b[0m \u001b[0m_copy_results_ppci_to_ppc\u001b[0m\u001b[1;33m(\u001b[0m\u001b[0mppci2\u001b[0m\u001b[1;33m,\u001b[0m \u001b[0mppc2\u001b[0m\u001b[1;33m,\u001b[0m \u001b[0mmode\u001b[0m\u001b[1;33m=\u001b[0m\u001b[0mmode\u001b[0m\u001b[1;33m)\u001b[0m\u001b[1;33m\u001b[0m\u001b[1;33m\u001b[0m\u001b[0m\n\u001b[0;32m    582\u001b[0m \u001b[1;33m\u001b[0m\u001b[0m\n\u001b[1;32m--> 583\u001b[1;33m     \u001b[0m_extract_results_3ph\u001b[0m\u001b[1;33m(\u001b[0m\u001b[0mnet\u001b[0m\u001b[1;33m,\u001b[0m \u001b[0mppc0\u001b[0m\u001b[1;33m,\u001b[0m \u001b[0mppc1\u001b[0m\u001b[1;33m,\u001b[0m \u001b[0mppc2\u001b[0m\u001b[1;33m)\u001b[0m\u001b[1;33m\u001b[0m\u001b[1;33m\u001b[0m\u001b[0m\n\u001b[0m\u001b[0;32m    584\u001b[0m \u001b[1;33m\u001b[0m\u001b[0m\n\u001b[0;32m    585\u001b[0m     \u001b[1;31m#    Raise error if PF was not successful. If DC -> success is always 1\u001b[0m\u001b[1;33m\u001b[0m\u001b[1;33m\u001b[0m\u001b[0m\n",
      "\u001b[1;32m~\\AppData\\Roaming\\Python\\Python39\\site-packages\\pandapower\\results.py\u001b[0m in \u001b[0;36m_extract_results_3ph\u001b[1;34m(net, ppc0, ppc1, ppc2)\u001b[0m\n\u001b[0;32m     41\u001b[0m     \u001b[1;31m# _get_shunt_results(net, ppc, bus_lookup_aranged, bus_pq)\u001b[0m\u001b[1;33m\u001b[0m\u001b[1;33m\u001b[0m\u001b[0m\n\u001b[0;32m     42\u001b[0m     \u001b[0m_get_branch_results_3ph\u001b[0m\u001b[1;33m(\u001b[0m\u001b[0mnet\u001b[0m\u001b[1;33m,\u001b[0m \u001b[0mppc0\u001b[0m\u001b[1;33m,\u001b[0m \u001b[0mppc1\u001b[0m\u001b[1;33m,\u001b[0m \u001b[0mppc2\u001b[0m\u001b[1;33m,\u001b[0m \u001b[0mbus_lookup_aranged\u001b[0m\u001b[1;33m,\u001b[0m \u001b[0mbus_pq\u001b[0m\u001b[1;33m)\u001b[0m\u001b[1;33m\u001b[0m\u001b[1;33m\u001b[0m\u001b[0m\n\u001b[1;32m---> 43\u001b[1;33m     \u001b[0m_get_gen_results_3ph\u001b[0m\u001b[1;33m(\u001b[0m\u001b[0mnet\u001b[0m\u001b[1;33m,\u001b[0m \u001b[0mppc0\u001b[0m\u001b[1;33m,\u001b[0m \u001b[0mppc1\u001b[0m\u001b[1;33m,\u001b[0m \u001b[0mppc2\u001b[0m\u001b[1;33m,\u001b[0m \u001b[0mbus_lookup_aranged\u001b[0m\u001b[1;33m,\u001b[0m \u001b[0mbus_pq\u001b[0m\u001b[1;33m)\u001b[0m\u001b[1;33m\u001b[0m\u001b[1;33m\u001b[0m\u001b[0m\n\u001b[0m\u001b[0;32m     44\u001b[0m     \u001b[0m_get_bus_results_3ph\u001b[0m\u001b[1;33m(\u001b[0m\u001b[0mnet\u001b[0m\u001b[1;33m,\u001b[0m \u001b[0mbus_pq\u001b[0m\u001b[1;33m)\u001b[0m\u001b[1;33m\u001b[0m\u001b[1;33m\u001b[0m\u001b[0m\n\u001b[0;32m     45\u001b[0m \u001b[1;33m\u001b[0m\u001b[0m\n",
      "\u001b[1;32m~\\AppData\\Roaming\\Python\\Python39\\site-packages\\pandapower\\results_gen.py\u001b[0m in \u001b[0;36m_get_gen_results_3ph\u001b[1;34m(net, ppc0, ppc1, ppc2, bus_lookup_aranged, pq_bus)\u001b[0m\n\u001b[0;32m     57\u001b[0m     \u001b[1;31m# get results for gens\u001b[0m\u001b[1;33m\u001b[0m\u001b[1;33m\u001b[0m\u001b[0m\n\u001b[0;32m     58\u001b[0m     \u001b[1;32mif\u001b[0m \u001b[0mgen_end\u001b[0m \u001b[1;33m>\u001b[0m \u001b[0meg_end\u001b[0m\u001b[1;33m:\u001b[0m\u001b[1;33m\u001b[0m\u001b[1;33m\u001b[0m\u001b[0m\n\u001b[1;32m---> 59\u001b[1;33m         \u001b[0mb\u001b[0m\u001b[1;33m,\u001b[0m \u001b[0mpA\u001b[0m\u001b[1;33m,\u001b[0m \u001b[0mqA\u001b[0m\u001b[1;33m,\u001b[0m \u001b[0mpB\u001b[0m\u001b[1;33m,\u001b[0m \u001b[0mqB\u001b[0m\u001b[1;33m,\u001b[0m \u001b[0mpC\u001b[0m\u001b[1;33m,\u001b[0m \u001b[0mqC\u001b[0m \u001b[1;33m=\u001b[0m \u001b[0m_get_pp_gen_results_3ph\u001b[0m\u001b[1;33m(\u001b[0m\u001b[0mnet\u001b[0m\u001b[1;33m,\u001b[0m \u001b[0mppc0\u001b[0m\u001b[1;33m,\u001b[0m \u001b[0mppc1\u001b[0m\u001b[1;33m,\u001b[0m \u001b[0mppc2\u001b[0m\u001b[1;33m,\u001b[0m \u001b[0mb\u001b[0m\u001b[1;33m,\u001b[0m \u001b[0mpA\u001b[0m\u001b[1;33m,\u001b[0m \u001b[0mqA\u001b[0m\u001b[1;33m,\u001b[0m \u001b[0mpB\u001b[0m\u001b[1;33m,\u001b[0m \u001b[0mqB\u001b[0m\u001b[1;33m,\u001b[0m \u001b[0mpC\u001b[0m\u001b[1;33m,\u001b[0m \u001b[0mqC\u001b[0m\u001b[1;33m)\u001b[0m\u001b[1;33m\u001b[0m\u001b[1;33m\u001b[0m\u001b[0m\n\u001b[0m\u001b[0;32m     60\u001b[0m \u001b[1;33m\u001b[0m\u001b[0m\n\u001b[0;32m     61\u001b[0m     \u001b[1;32mif\u001b[0m \u001b[1;32mnot\u001b[0m \u001b[0mac\u001b[0m\u001b[1;33m:\u001b[0m\u001b[1;33m\u001b[0m\u001b[1;33m\u001b[0m\u001b[0m\n",
      "\u001b[1;32m~\\AppData\\Roaming\\Python\\Python39\\site-packages\\pandapower\\results_gen.py\u001b[0m in \u001b[0;36m_get_pp_gen_results_3ph\u001b[1;34m(net, ppc0, ppc1, ppc2, b, pA, qA, pB, qB, pC, qC)\u001b[0m\n\u001b[0;32m    292\u001b[0m \u001b[1;33m\u001b[0m\u001b[0m\n\u001b[0;32m    293\u001b[0m \u001b[1;32mdef\u001b[0m \u001b[0m_get_pp_gen_results_3ph\u001b[0m\u001b[1;33m(\u001b[0m\u001b[0mnet\u001b[0m\u001b[1;33m,\u001b[0m \u001b[0mppc0\u001b[0m\u001b[1;33m,\u001b[0m \u001b[0mppc1\u001b[0m\u001b[1;33m,\u001b[0m \u001b[0mppc2\u001b[0m\u001b[1;33m,\u001b[0m \u001b[0mb\u001b[0m\u001b[1;33m,\u001b[0m \u001b[0mpA\u001b[0m\u001b[1;33m,\u001b[0m \u001b[0mqA\u001b[0m\u001b[1;33m,\u001b[0m \u001b[0mpB\u001b[0m\u001b[1;33m,\u001b[0m \u001b[0mqB\u001b[0m\u001b[1;33m,\u001b[0m \u001b[0mpC\u001b[0m\u001b[1;33m,\u001b[0m \u001b[0mqC\u001b[0m\u001b[1;33m)\u001b[0m\u001b[1;33m:\u001b[0m\u001b[1;33m\u001b[0m\u001b[1;33m\u001b[0m\u001b[0m\n\u001b[1;32m--> 294\u001b[1;33m     \u001b[0mpA_gen\u001b[0m\u001b[1;33m,\u001b[0m \u001b[0mqA_gen\u001b[0m\u001b[1;33m,\u001b[0m \u001b[0mpB_gen\u001b[0m\u001b[1;33m,\u001b[0m \u001b[0mqB_gen\u001b[0m\u001b[1;33m,\u001b[0m \u001b[0mpC_gen\u001b[0m\u001b[1;33m,\u001b[0m \u001b[0mqC_gen\u001b[0m \u001b[1;33m=\u001b[0m \u001b[0m_get_p_q_gen_results_3ph\u001b[0m\u001b[1;33m(\u001b[0m\u001b[0mnet\u001b[0m\u001b[1;33m,\u001b[0m \u001b[0mppc0\u001b[0m\u001b[1;33m,\u001b[0m \u001b[0mppc1\u001b[0m\u001b[1;33m,\u001b[0m \u001b[0mppc2\u001b[0m\u001b[1;33m)\u001b[0m\u001b[1;33m\u001b[0m\u001b[1;33m\u001b[0m\u001b[0m\n\u001b[0m\u001b[0;32m    295\u001b[0m     \u001b[0m_get_v_gen_results_3ph\u001b[0m\u001b[1;33m(\u001b[0m\u001b[0mnet\u001b[0m\u001b[1;33m,\u001b[0m \u001b[0mppc0\u001b[0m\u001b[1;33m,\u001b[0m \u001b[0mppc1\u001b[0m\u001b[1;33m,\u001b[0m \u001b[0mppc2\u001b[0m\u001b[1;33m)\u001b[0m\u001b[1;33m\u001b[0m\u001b[1;33m\u001b[0m\u001b[0m\n\u001b[0;32m    296\u001b[0m \u001b[1;33m\u001b[0m\u001b[0m\n",
      "\u001b[1;32m~\\AppData\\Roaming\\Python\\Python39\\site-packages\\pandapower\\results_gen.py\u001b[0m in \u001b[0;36m_get_p_q_gen_results_3ph\u001b[1;34m(net, ppc0, ppc1, ppc2)\u001b[0m\n\u001b[0;32m    204\u001b[0m     \u001b[0mqA\u001b[0m\u001b[1;33m,\u001b[0m \u001b[0mqB\u001b[0m\u001b[1;33m,\u001b[0m \u001b[0mqC\u001b[0m \u001b[1;33m=\u001b[0m \u001b[0mmap\u001b[0m\u001b[1;33m(\u001b[0m\u001b[1;32mlambda\u001b[0m \u001b[0mx\u001b[0m\u001b[1;33m:\u001b[0m \u001b[0mx\u001b[0m\u001b[1;33m.\u001b[0m\u001b[0mflatten\u001b[0m\u001b[1;33m(\u001b[0m\u001b[1;33m)\u001b[0m\u001b[1;33m,\u001b[0m \u001b[0mnp\u001b[0m\u001b[1;33m.\u001b[0m\u001b[0mimag\u001b[0m\u001b[1;33m(\u001b[0m\u001b[0mSabc\u001b[0m\u001b[1;33m)\u001b[0m\u001b[1;33m)\u001b[0m\u001b[1;33m\u001b[0m\u001b[1;33m\u001b[0m\u001b[0m\n\u001b[0;32m    205\u001b[0m \u001b[1;33m\u001b[0m\u001b[0m\n\u001b[1;32m--> 206\u001b[1;33m     \u001b[0mnet\u001b[0m\u001b[1;33m[\u001b[0m\u001b[1;34m\"res_gen_3ph\"\u001b[0m\u001b[1;33m]\u001b[0m\u001b[1;33m[\u001b[0m\u001b[1;34m\"p_a_mw\"\u001b[0m\u001b[1;33m]\u001b[0m \u001b[1;33m=\u001b[0m \u001b[0mpA\u001b[0m\u001b[1;33m\u001b[0m\u001b[1;33m\u001b[0m\u001b[0m\n\u001b[0m\u001b[0;32m    207\u001b[0m     \u001b[0mnet\u001b[0m\u001b[1;33m[\u001b[0m\u001b[1;34m\"res_gen_3ph\"\u001b[0m\u001b[1;33m]\u001b[0m\u001b[1;33m[\u001b[0m\u001b[1;34m\"p_b_mw\"\u001b[0m\u001b[1;33m]\u001b[0m \u001b[1;33m=\u001b[0m \u001b[0mpB\u001b[0m\u001b[1;33m\u001b[0m\u001b[1;33m\u001b[0m\u001b[0m\n\u001b[0;32m    208\u001b[0m     \u001b[0mnet\u001b[0m\u001b[1;33m[\u001b[0m\u001b[1;34m\"res_gen_3ph\"\u001b[0m\u001b[1;33m]\u001b[0m\u001b[1;33m[\u001b[0m\u001b[1;34m\"p_c_mw\"\u001b[0m\u001b[1;33m]\u001b[0m \u001b[1;33m=\u001b[0m \u001b[0mpC\u001b[0m\u001b[1;33m\u001b[0m\u001b[1;33m\u001b[0m\u001b[0m\n",
      "\u001b[1;31mKeyError\u001b[0m: 'res_gen_3ph'"
     ]
    }
   ],
   "source": [
    "main_campus = pp.create_ext_grid(microgrid, grid_bus1, vm_pu=1.02, va_degree=50, s_sc_max_mva=1000, rx_max=0.1, x0x_max=0.1, r0x0_max=0.1)\n",
    "main_transformer = pp.create_transformer_from_parameters(microgrid, grid_bus1, lv_bus1, sn_mva=2000, vn_hv_kv=high_voltage, vn_lv_kv=low_voltage, vk_percent=6,vkr_percent=1.425,pfe_kw=1.35,i0_percent=0.3375,shift_degree=150,vector_group='Dyn',vk0_percent=1,vkr0_percent=1,mag0_percent=100,mag0_rx=0,si0_hv_partial=0.9)\n",
    "main_gen = pp.create_gen(microgrid, gen_bus, p_mw=3.5)\n",
    "pv_gen = pp.create_gen(microgrid, pv_bus, p_mw=0)\n",
    "\n",
    "ps = [0.7251755596758873,0.7297487247945658,0.29527647624419634,0.276007039044313,0.28414495476850493,0.3164915177528286,0.6373714079981926,0.20932592870694763]\n",
    "qs = [0.44699829145554887,0.42438198177823544,0.17202459814021925,0.14260173717495012,0.09618761821549013,0.18002382377286735,0.31316178248406723,0.06885089126511246]\n",
    "ls = [load1, load2, load3, load4, load5, load6, load7, load8]\n",
    "for l in range(len(ls)):\n",
    "    a = 1e3\n",
    "    b = 1e3*0.98\n",
    "    c = 1e3*1.02\n",
    "    pp. create_asymmetric_load(microgrid,bus=ls[l],p_a_mw=a*ps[l],q_a_mvar=a*qs[l],p_b_mw=b*ps[l],q_b_mvar=b*qs[l],p_c_mw=c*ps[l],q_c_mvar=c*qs[l])\n",
    "    #pp.create_load(microgrid, ls[l], p_mw=ps[l], q_mvar=qs[l], const_i_percent=1, const_z_percent=3)\n",
    "\n",
    "runpp_3ph(microgrid)"
   ]
  },
  {
   "cell_type": "code",
   "execution_count": 28,
   "metadata": {},
   "outputs": [
    {
     "name": "stderr",
     "output_type": "stream",
     "text": [
      "\n",
      "\n",
      "_____________ PANDAPOWER DIAGNOSTIC TOOL _____________ \n",
      "\n",
      "\n",
      " --------\n",
      "\n",
      "\n",
      " --------\n",
      "\n",
      "\n",
      " --------\n",
      "\n",
      "\n",
      " --------\n",
      "\n",
      "\n",
      " --------\n",
      "\n",
      "\n",
      " --------\n",
      "\n",
      "Checking for overload...\n",
      "\n",
      "Overload check failed: Power flow still does not converge with load and generation scaled down to 0.1 percent.\n",
      "\n",
      " --------\n",
      "\n",
      "\n",
      " --------\n",
      "\n",
      "Checking switch configuration...\n",
      "\n",
      "Power flow still does not converge with all switches closed.\n",
      "\n",
      " --------\n",
      "\n",
      "\n",
      " --------\n",
      "\n",
      "\n",
      " --------\n",
      "\n",
      "\n",
      " --------\n",
      "\n",
      "numba_comparison failed due to the following error:\n",
      "Power Flow nr did not converge after 10 iterations!\n",
      "\n",
      " --------\n",
      "\n",
      "\n",
      " --------\n",
      "\n",
      "_____________ END OF PANDAPOWER DIAGNOSTIC _____________ \n"
     ]
    },
    {
     "data": {
      "text/plain": [
       "{'overload': {'load': False, 'generation': False},\n",
       " 'wrong_switch_configuration': False}"
      ]
     },
     "execution_count": 28,
     "metadata": {},
     "output_type": "execute_result"
    }
   ],
   "source": [
    "pp.diagnostic(microgrid)"
   ]
  },
  {
   "cell_type": "code",
   "execution_count": null,
   "metadata": {},
   "outputs": [],
   "source": [
    "# example pulled from github\n",
    "\n",
    "net = pp.create_empty_network()\n",
    "pp.add_zero_impedance_parameters(net)\n",
    "\n",
    "bus_hv = pp.create_bus(net, vn_kv=20., name=\"Bus_hv \")\n",
    "bus_lv = pp.create_bus(net, vn_kv=0.4, name=\"Bus_lv\")\n",
    "muff_1 = pp.create_bus(net, vn_kv=0.4, name=\"muff 1\", type=\"m\")\n",
    "\n",
    "P = 0.0074\n",
    "cos_phi = 0.97\n",
    "Phi = math.acos(cos_phi)\n",
    "Q = (math.tan(Phi)*P) / 1000000\n",
    "\n",
    "#create bus elements\n",
    "pp.create_ext_grid(net,\n",
    "bus=bus_hv,\n",
    "vm_pu=1.03,\n",
    "name=\"Grid Connection\",\n",
    "s_sc_max_mva=1000,\n",
    "rx_max=0.1,\n",
    "x0x_max=0.1,\n",
    "r0x0_max=0.1)\n",
    "\n",
    "pp. create_asymmetric_load(net,\n",
    "bus=muff_1,\n",
    "p_a_mw=P,\n",
    "q_a_mvar=Q)\n",
    "\n",
    "pp.create_transformer_from_parameters(net,\n",
    "hv_bus=bus_hv,\n",
    "lv_bus=bus_lv,\n",
    "name=\"Trafo_1\",\n",
    "sn_mva=0.4,\n",
    "vn_hv_kv=20,\n",
    "vn_lv_kv=0.4,\n",
    "vk_percent=6,\n",
    "vkr_percent=1.425,\n",
    "pfe_kw=1.35,\n",
    "i0_percent=0.3375,\n",
    "shift_degree=150,\n",
    "vector_group='Dyn',\n",
    "vk0_percent=1,\n",
    "vkr0_percent=1,\n",
    "mag0_percent=100,\n",
    "mag0_rx=0,\n",
    "si0_hv_partial=0.9)\n",
    "\n",
    "pp.create_line_from_parameters(net,\n",
    "from_bus=bus_lv,\n",
    "to_bus=muff_1,\n",
    "length_km=0.01,\n",
    "r_ohm_per_km=0.642,\n",
    "x_ohm_per_km=0.083,\n",
    "c_nf_per_km=210,\n",
    "max_i_ka=0.142,\n",
    "r0_ohm_per_km=1,\n",
    "c0_nf_per_km=1,\n",
    "x0_ohm_per_km=1)"
   ]
  }
 ],
 "metadata": {
  "kernelspec": {
   "display_name": "Python [conda env:.conda-ray]",
   "language": "python",
   "name": "conda-env-.conda-ray-py"
  },
  "language_info": {
   "codemirror_mode": {
    "name": "ipython",
    "version": 3
   },
   "file_extension": ".py",
   "mimetype": "text/x-python",
   "name": "python",
   "nbconvert_exporter": "python",
   "pygments_lexer": "ipython3",
   "version": "3.9.9"
  }
 },
 "nbformat": 4,
 "nbformat_minor": 4
}
