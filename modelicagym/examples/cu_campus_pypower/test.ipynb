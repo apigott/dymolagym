{
 "cells": [
  {
   "cell_type": "code",
   "execution_count": 1,
   "metadata": {},
   "outputs": [],
   "source": [
    "import dymola\n",
    "import logging\n",
    "logger = logging.getLogger()\n",
    "logger.setLevel(logging.DEBUG)\n",
    "\n",
    "import logging\n",
    "import gym\n",
    "import numpy as np\n",
    "import os\n",
    "import matplotlib.pyplot as plt\n",
    "import DyMat\n",
    "import modelicagym\n",
    "import modelicagym.examples\n",
    "import ray"
   ]
  },
  {
   "cell_type": "code",
   "execution_count": 2,
   "metadata": {
    "scrolled": true
   },
   "outputs": [
    {
     "name": "stderr",
     "output_type": "stream",
     "text": [
      "C:\\Users\\Aisling\\AppData\\Roaming\\Python\\Python38\\site-packages\\gym\\logger.py:30: UserWarning: \u001b[33mWARN: Box bound precision lowered by casting to float32\u001b[0m\n",
      "  warnings.warn(colorize('%s: %s'%('WARN', msg % args), 'yellow'))\n"
     ]
    }
   ],
   "source": [
    "env_name = \"MicrogridEnvPyPF-v0\" \n",
    "\n",
    "# create the environment. this will run an initial step and must return [True, [...]] or something is broken\n",
    "# TODO: create error handling/warnings if simulations don't work (i.e. returns [False], [...])\n",
    "env = gym.make(env_name)"
   ]
  },
  {
   "cell_type": "code",
   "execution_count": 3,
   "metadata": {},
   "outputs": [
    {
     "data": {
      "text/plain": [
       "[122649.84575537755]"
      ]
     },
     "execution_count": 3,
     "metadata": {},
     "output_type": "execute_result"
    }
   ],
   "source": [
    "env.reset()"
   ]
  },
  {
   "cell_type": "code",
   "execution_count": 4,
   "metadata": {},
   "outputs": [
    {
     "data": {
      "text/plain": [
       "True"
      ]
     },
     "execution_count": 4,
     "metadata": {},
     "output_type": "execute_result"
    }
   ],
   "source": [
    "env.dymola.importInitialResult('dsres.mat', atTime=0)"
   ]
  },
  {
   "cell_type": "code",
   "execution_count": 5,
   "metadata": {},
   "outputs": [
    {
     "ename": "AttributeError",
     "evalue": "'CampusEnvPyPF' object has no attribute 'act'",
     "output_type": "error",
     "traceback": [
      "\u001b[1;31m---------------------------------------------------------------------------\u001b[0m",
      "\u001b[1;31mAttributeError\u001b[0m                            Traceback (most recent call last)",
      "\u001b[1;32m<ipython-input-5-7574b1c30006>\u001b[0m in \u001b[0;36m<module>\u001b[1;34m\u001b[0m\n\u001b[0;32m      2\u001b[0m                                     \u001b[0mstopTime\u001b[0m\u001b[1;33m=\u001b[0m\u001b[0menv\u001b[0m\u001b[1;33m.\u001b[0m\u001b[0mstop\u001b[0m\u001b[1;33m,\u001b[0m\u001b[1;33m\u001b[0m\u001b[1;33m\u001b[0m\u001b[0m\n\u001b[0;32m      3\u001b[0m                                     \u001b[0minitialNames\u001b[0m\u001b[1;33m=\u001b[0m\u001b[0menv\u001b[0m\u001b[1;33m.\u001b[0m\u001b[0mmodel_input_names\u001b[0m \u001b[1;33m+\u001b[0m \u001b[0menv\u001b[0m\u001b[1;33m.\u001b[0m\u001b[0mrbc_action_names\u001b[0m\u001b[1;33m,\u001b[0m\u001b[1;33m\u001b[0m\u001b[1;33m\u001b[0m\u001b[0m\n\u001b[1;32m----> 4\u001b[1;33m                                     \u001b[0minitialValues\u001b[0m \u001b[1;33m=\u001b[0m \u001b[0menv\u001b[0m\u001b[1;33m.\u001b[0m\u001b[0mact\u001b[0m\u001b[1;33m,\u001b[0m\u001b[1;33m\u001b[0m\u001b[1;33m\u001b[0m\u001b[0m\n\u001b[0m\u001b[0;32m      5\u001b[0m                                     finalNames=env.model_output_names)\n",
      "\u001b[1;31mAttributeError\u001b[0m: 'CampusEnvPyPF' object has no attribute 'act'"
     ]
    }
   ],
   "source": [
    "env.dymola.simulateExtendedModel(env.model_name, startTime=env.start,\n",
    "                                    stopTime=env.stop,\n",
    "                                    initialNames=env.model_input_names + env.rbc_action_names,\n",
    "                                    initialValues = env.model_input_,\n",
    "                                    finalNames=env.model_output_names)"
   ]
  },
  {
   "cell_type": "code",
   "execution_count": null,
   "metadata": {},
   "outputs": [],
   "source": [
    "env.dymola.getLastErrorLog()"
   ]
  },
  {
   "cell_type": "code",
   "execution_count": null,
   "metadata": {},
   "outputs": [],
   "source": [
    "import os\n",
    "os.environ['MODELICAPATH'] ='C:\\\\Users\\\\Aisling\\\\Documents\\\\cu-case-study-4.0.0\\\\modelica-buildings'"
   ]
  },
  {
   "cell_type": "code",
   "execution_count": null,
   "metadata": {},
   "outputs": [],
   "source": [
    "env.step(env.default_action)"
   ]
  },
  {
   "cell_type": "code",
   "execution_count": null,
   "metadata": {},
   "outputs": [],
   "source": [
    "pip install numba"
   ]
  },
  {
   "cell_type": "code",
   "execution_count": null,
   "metadata": {
    "scrolled": true
   },
   "outputs": [],
   "source": [
    "env.reset()\n",
    "for _ in range(2):\n",
    "    env.step(env.default_action)"
   ]
  },
  {
   "cell_type": "code",
   "execution_count": null,
   "metadata": {},
   "outputs": [],
   "source": [
    "import os\n",
    "os.getcwd()"
   ]
  },
  {
   "cell_type": "code",
   "execution_count": null,
   "metadata": {},
   "outputs": [],
   "source": [
    "env.reset_dymola()"
   ]
  },
  {
   "cell_type": "code",
   "execution_count": null,
   "metadata": {},
   "outputs": [],
   "source": [
    "env.dymola.getLastError()"
   ]
  },
  {
   "cell_type": "code",
   "execution_count": null,
   "metadata": {},
   "outputs": [],
   "source": [
    "x = env.dymola.simulateExtendedModel(env.model_name, startTime=env.start,\n",
    "                                    stopTime=env.stop,\n",
    "                                    initialNames=env.model_input_names+ env.rbc_action_names,\n",
    "                                    initialValues = env.act,\n",
    "                                    finalNames=env.model_output_names)"
   ]
  },
  {
   "cell_type": "code",
   "execution_count": null,
   "metadata": {
    "scrolled": true
   },
   "outputs": [],
   "source": [
    "env.step([273+28])"
   ]
  },
  {
   "cell_type": "code",
   "execution_count": null,
   "metadata": {},
   "outputs": [],
   "source": [
    "x = np.divide(env.debug_data[\"my_time\"],3600)\n",
    "leg = [\"stadium.P\",\"macky.P\", \"hellums.P\",\"umc.P\", \"chw_plant.P\",\"ec.P\", \"kitt.P\",\"quad.P\"]\n",
    "\n",
    "for l in leg:\n",
    "    plt.plot(x,np.multiply(env.debug_data[l],100))\n",
    "plt.xlim(0,48)\n",
    "\n",
    "plt.ylabel(\"P_cons (MW)\")\n",
    "plt.xlabel('Time (Hours)')\n",
    "#plt.plot(x,env.debug_data['irradiance_to_Power.irradiance_out'])"
   ]
  },
  {
   "cell_type": "code",
   "execution_count": null,
   "metadata": {},
   "outputs": [],
   "source": [
    "x = np.divide(env.debug_data[\"my_time\"],3600)\n",
    "leg = [\"stadium.v\", \"GRID.V\", \"macky.v\", \"hellums.v\", \"umc.v\", \"quad.v\", \"chw_plant.v\", \"ec.v\", \"kitt.v\", \"CENTRAL_bus.V\"]\n",
    "\n",
    "for l in leg:\n",
    "    plt.plot(x,env.debug_data[l])\n",
    "plt.xlim(0,48)\n",
    "\n",
    "plt.ylabel(\"Voltage (p.u)\")\n",
    "plt.xlabel('Time (Hours)')\n",
    "plt.ylim(0.94,1.06)\n",
    "# plt.ylim(0.995,0.996)"
   ]
  },
  {
   "cell_type": "code",
   "execution_count": null,
   "metadata": {},
   "outputs": [],
   "source": [
    "import pandas as pd\n",
    "import numpy as np"
   ]
  },
  {
   "cell_type": "code",
   "execution_count": null,
   "metadata": {},
   "outputs": [],
   "source": [
    "import matplotlib.pyplot as plt\n",
    "loads = pd.read_csv('loads.csv')\n",
    "xax = np.arange(700)/24\n",
    "for x in range(1,9):\n",
    "    plt.plot(xax, loads[f'{x}_est'].iloc[:700])\n",
    "    \n",
    "plt.xlabel('Hours')\n",
    "plt.ylabel('kW')\n",
    "plt.xlim(2,4)"
   ]
  },
  {
   "cell_type": "code",
   "execution_count": null,
   "metadata": {},
   "outputs": [],
   "source": [
    "len(loads['1_est'])"
   ]
  },
  {
   "cell_type": "code",
   "execution_count": null,
   "metadata": {},
   "outputs": [],
   "source": [
    "solar = pd.read_csv('coors_pv.csv')"
   ]
  },
  {
   "cell_type": "code",
   "execution_count": null,
   "metadata": {},
   "outputs": [],
   "source": [
    "solar['Date & Time'] = pd.to_datetime(solar['Date & Time'], format='%m/%d/%Y %H:%M')"
   ]
  },
  {
   "cell_type": "code",
   "execution_count": null,
   "metadata": {},
   "outputs": [],
   "source": [
    "(solar['Date & Time'].dt.hour).idxmin()"
   ]
  },
  {
   "cell_type": "code",
   "execution_count": null,
   "metadata": {},
   "outputs": [],
   "source": []
  }
 ],
 "metadata": {
  "kernelspec": {
   "display_name": "Python [conda env:.conda-rllib]",
   "language": "python",
   "name": "conda-env-.conda-rllib-py"
  },
  "language_info": {
   "codemirror_mode": {
    "name": "ipython",
    "version": 3
   },
   "file_extension": ".py",
   "mimetype": "text/x-python",
   "name": "python",
   "nbconvert_exporter": "python",
   "pygments_lexer": "ipython3",
   "version": "3.8.5"
  }
 },
 "nbformat": 4,
 "nbformat_minor": 5
}
