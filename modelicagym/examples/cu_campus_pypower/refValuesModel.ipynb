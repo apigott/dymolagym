{
 "cells": [
  {
   "cell_type": "code",
   "execution_count": 2,
   "metadata": {},
   "outputs": [],
   "source": [
    "import pandapower as pp\n",
    "import numpy as np"
   ]
  },
  {
   "cell_type": "code",
   "execution_count": 3,
   "metadata": {},
   "outputs": [],
   "source": [
    "microgrid = pp.create_empty_network(name=\"cub_campus\")\n",
    "high_voltage = 23\n",
    "low_voltage = 13.8\n",
    "\n",
    "# Xcel energy operates at 13.8kV for distribution\n",
    "grid_bus1 = pp.create_bus(microgrid, name=\"GRID_bus1\", vn_kv=high_voltage,geodata=(0,0))\n",
    "#grid_bus2 = pp.create_bus(microgrid, name=\"GRID_bus2\", vn_kv=high_voltage)\n",
    "lv_bus1 = pp.create_bus(microgrid, name=\"LV_bus1\", vn_kv=low_voltage, type=\"n\",geodata=(0.5,0))\n",
    "sb_bus1 = pp.create_bus(microgrid, name=\"SB_bus1\", vn_kv=low_voltage, type=\"n\",geodata=(1,0))\n",
    "multidomain_bus = pp.create_bus(microgrid, name=\"MultiDomain_bus\", vn_kv=0.4, type=\"n\",geodata=(1,0.5))\n",
    "multidomain_bus1 = pp.create_bus(microgrid, name=\"MultiDomain_bus1\", vn_kv=low_voltage, type=\"n\", geodata=(1,0.5))\n",
    "central_bus = pp.create_bus(microgrid, name=\"CENTRAL_bus\", vn_kv=low_voltage,geodata=(1.5,0))\n",
    "pv_bus = pp.create_bus(microgrid, name=\"PV_bus\", vn_kv=low_voltage,geodata=(2,0.5))\n",
    "bess_bus = pp.create_bus(microgrid, name=\"BESS_bus\", vn_kv=low_voltage, type=\"n\",geodata=(2,1))\n",
    "gen_bus = pp.create_bus(microgrid, name=\"Gen_bus\", vn_kv=low_voltage, type=\"n\",geodata=(0.5,0.5))\n",
    "sec1 = pp.create_bus(microgrid, name=\"sec1\", vn_kv=low_voltage, type=\"n\",geodata=(3,1))\n",
    "sec2 = pp.create_bus(microgrid, name=\"sec2\", vn_kv=low_voltage, type=\"n\",geodata=(3,-1))\n",
    "load1 = pp.create_bus(microgrid, name=\"macky\", vn_kv=low_voltage, type=\"n\",geodata=(3.5,1.3))\n",
    "load2 = pp.create_bus(microgrid, name=\"hellums\", vn_kv=low_voltage, type=\"n\",geodata=(3.5,0.7))\n",
    "load3 = pp.create_bus(microgrid, name=\"stadium\", vn_kv=low_voltage, type=\"n\",geodata=(3,0))\n",
    "load4 = pp.create_bus(microgrid, name=\"bookstore\", vn_kv=low_voltage, type=\"n\",geodata=(4,1))\n",
    "load5 = pp.create_bus(microgrid, name=\"quad\", vn_kv=low_voltage, type=\"n\",geodata=(3.5,-0.7))\n",
    "load6 = pp.create_bus(microgrid, name=\"ec\", vn_kv=low_voltage, type=\"n\",geodata=(3.5,-1.3))\n",
    "load7 = pp.create_bus(microgrid, name=\"chw_plant\", vn_kv=low_voltage, type=\"n\",geodata=(4,-0.7))\n",
    "load8 = pp.create_bus(microgrid, name=\"kitt\", vn_kv=low_voltage, type=\"n\",geodata=(4,-1.3))\n",
    "\n",
    "buses = [grid_bus1, lv_bus1, sb_bus1, multidomain_bus1, central_bus, pv_bus, bess_bus, sec1, sec2, load1, load2, load3, load4, load5, load6, load7, load8, gen_bus]\n",
    "conns = [[1,2],[2,4],[3,4],[4,5],[4,6],[4,7],[4,11],[4,8],[7,9],[7,12],[9,10],[10,12],[8,13],[8,15],[13,14],[14,16],[16,15],[3,17]]\n",
    "for conn in conns:\n",
    "    pp.create_line(microgrid, buses[conn[0]], buses[conn[1]], 0.5, std_type=\"N2XS(FL)2Y 1x300 RM/35 64/110 kV\")\n",
    "\n",
    "xcel_conn = pp.create_ext_grid(microgrid, grid_bus1, vm_pu=1.02, va_degree=50)\n",
    "xcel_transformer = pp.create_transformer_from_parameters(microgrid, grid_bus1, lv_bus1, 2000, high_voltage, low_voltage, 0.25, 10, 0.48, 0.06)\n",
    "chp_gen = pp.create_gen(microgrid, gen_bus, p_mw=3.5)\n",
    "chp_transformer = pp.create_transformer_from_parameters(microgrid, multidomain_bus, multidomain_bus1, 2000, 0.4, low_voltage, 0.25, 10, 0.48, 0.06)\n",
    "pv_gen = pp.create_gen(microgrid, pv_bus, p_mw=0)\n",
    "\n",
    "ps = [347.648998,189.584781,4337.210930,1923.991871,3396.980054,796.892406,972.234648,1028.719053]\n",
    "ls = [load1, load2, load3, load4, load5, load6, load7, load8]\n",
    "for l in range(len(ls)):\n",
    "    p = ps[l] * 0.001\n",
    "    s = p * np.tan(np.arccos(np.random.uniform(0.85,0.95)))\n",
    "    pp.create_load(microgrid, ls[l], p_mw=p, q_mvar=s, const_i_percent=1, const_z_percent=3)\n",
    "    \n",
    "pp.runpp(microgrid)"
   ]
  },
  {
   "cell_type": "code",
   "execution_count": 11,
   "metadata": {},
   "outputs": [
    {
     "data": {
      "text/html": [
       "<div>\n",
       "<style scoped>\n",
       "    .dataframe tbody tr th:only-of-type {\n",
       "        vertical-align: middle;\n",
       "    }\n",
       "\n",
       "    .dataframe tbody tr th {\n",
       "        vertical-align: top;\n",
       "    }\n",
       "\n",
       "    .dataframe thead th {\n",
       "        text-align: right;\n",
       "    }\n",
       "</style>\n",
       "<table border=\"1\" class=\"dataframe\">\n",
       "  <thead>\n",
       "    <tr style=\"text-align: right;\">\n",
       "      <th></th>\n",
       "      <th>p_mw</th>\n",
       "      <th>q_mvar</th>\n",
       "    </tr>\n",
       "  </thead>\n",
       "  <tbody>\n",
       "    <tr>\n",
       "      <th>0</th>\n",
       "      <td>9.660509</td>\n",
       "      <td>19.614711</td>\n",
       "    </tr>\n",
       "  </tbody>\n",
       "</table>\n",
       "</div>"
      ],
      "text/plain": [
       "       p_mw     q_mvar\n",
       "0  9.660509  19.614711"
      ]
     },
     "execution_count": 11,
     "metadata": {},
     "output_type": "execute_result"
    }
   ],
   "source": [
    "microgrid.res_ext_grid"
   ]
  },
  {
   "cell_type": "code",
   "execution_count": 4,
   "metadata": {},
   "outputs": [],
   "source": [
    "v_b = 13800\n",
    "s_b = 10**6 \n",
    "z_b = (v_b**2)/s_b\n",
    "microgrid.line['pu_r'] = microgrid.line['r_ohm_per_km'] / z_b\n",
    "microgrid.line['pu_z'] = microgrid.line['x_ohm_per_km'] / z_b"
   ]
  },
  {
   "cell_type": "code",
   "execution_count": 5,
   "metadata": {},
   "outputs": [],
   "source": [
    "import pandas as pd\n",
    "x = pd.merge(microgrid.bus, microgrid.res_bus, left_index=True, right_index=True)"
   ]
  },
  {
   "cell_type": "code",
   "execution_count": 6,
   "metadata": {},
   "outputs": [],
   "source": [
    "for i in ['vm_pu','va_degree']:\n",
    "    x[f'data_record_{i[:2]}'] = f\"parameter Real {i[:2]}_\"+x['name']+\"=\"+x[i].astype(str)+\";\""
   ]
  },
  {
   "cell_type": "code",
   "execution_count": 7,
   "metadata": {
    "scrolled": true
   },
   "outputs": [
    {
     "name": "stdout",
     "output_type": "stream",
     "text": [
      "                     parameter Real vm_GRID_bus1=1.02;\n",
      "         parameter Real vm_LV_bus1=1.0190576316131048;\n",
      "         parameter Real vm_SB_bus1=1.0107576391520277;\n",
      " parameter Real vm_MultiDomain_bus=1.0009698495847619;\n",
      "parameter Real vm_MultiDomain_bus1=1.0009998695928526;\n",
      "     parameter Real vm_CENTRAL_bus=1.0024565618609051;\n",
      "          parameter Real vm_PV_bus=0.9999999999999999;\n",
      "        parameter Real vm_BESS_bus=1.0024573781627082;\n",
      "         parameter Real vm_Gen_bus=0.9999999999999999;\n",
      "            parameter Real vm_sec1=1.0015857307746139;\n",
      "            parameter Real vm_sec2=1.0002596370701418;\n",
      "           parameter Real vm_macky=1.0013043385168834;\n",
      "         parameter Real vm_hellums=1.0011203791558325;\n",
      "         parameter Real vm_stadium=1.0011359621986726;\n",
      "       parameter Real vm_bookstore=1.0009942536074952;\n",
      "            parameter Real vm_quad=0.9988582420760337;\n",
      "              parameter Real vm_ec=0.9987657707873655;\n",
      "       parameter Real vm_chw_plant=0.9994642199952037;\n",
      "            parameter Real vm_kitt=0.9989509790972219;\n",
      "                        parameter Real va_GRID_bus1=0.0;\n",
      "         parameter Real va_LV_bus1=-0.02530811556938732;\n",
      "          parameter Real va_SB_bus1=-0.0676749639297831;\n",
      " parameter Real va_MultiDomain_bus=0.012518251929646878;\n",
      "parameter Real va_MultiDomain_bus1=0.012475968701024015;\n",
      "     parameter Real va_CENTRAL_bus=-0.11070422190804208;\n",
      "          parameter Real va_PV_bus=-0.05221427136406601;\n",
      "        parameter Real va_BESS_bus=-0.11072366192386898;\n",
      "          parameter Real va_Gen_bus=0.12516661874001003;\n",
      "            parameter Real va_sec1=-0.15231411952922813;\n",
      "             parameter Real va_sec2=-0.2155916460952384;\n",
      "            parameter Real va_macky=-0.1668173966298009;\n",
      "         parameter Real va_hellums=-0.17483227204589827;\n",
      "         parameter Real va_stadium=-0.18915410122442397;\n",
      "       parameter Real va_bookstore=-0.17941867637166764;\n",
      "             parameter Real va_quad=-0.2788818324591508;\n",
      "               parameter Real va_ec=-0.2869797649629894;\n",
      "        parameter Real va_chw_plant=-0.2574828756367719;\n",
      "             parameter Real va_kitt=-0.2814089520797175;\n"
     ]
    }
   ],
   "source": [
    "print(x.to_string(columns=['data_record_vm'],index=False,header=False))\n",
    "print(x.to_string(columns=['data_record_va'],index=False,header=False))"
   ]
  },
  {
   "cell_type": "code",
   "execution_count": 7,
   "metadata": {},
   "outputs": [],
   "source": [
    "x = pd.merge(microgrid.load.drop(['p_mw','q_mvar'],axis=1), microgrid.res_load, left_index=True, right_index=True)\n",
    "x['name'] = (x.index+1).astype(str)"
   ]
  },
  {
   "cell_type": "code",
   "execution_count": 8,
   "metadata": {},
   "outputs": [],
   "source": [
    "for i in ['p_mw','q_mvar']:\n",
    "    x[f'data_record_{i[:1]}'] = f\"parameter Real {i[:1]}_load\"+x['name']+\"=\"+x[i].astype(str)+\";\""
   ]
  },
  {
   "cell_type": "code",
   "execution_count": 9,
   "metadata": {
    "scrolled": true
   },
   "outputs": [
    {
     "name": "stdout",
     "output_type": "stream",
     "text": [
      " parameter Real p_load1=0.3476884613879555;\n",
      "parameter Real p_load2=0.18960436975031572;\n",
      "  parameter Real p_load3=4.337643015903549;\n",
      "  parameter Real p_load4=1.924179200838282;\n",
      " parameter Real p_load5=3.3967634665305946;\n",
      " parameter Real p_load6=0.7968348557639645;\n",
      " parameter Real p_load7=0.9722112878049635;\n",
      "  parameter Real p_load8=1.028657900034803;\n",
      "  parameter Real q_load1=0.193751880346159;\n",
      "parameter Real q_load2=0.08515620541406078;\n",
      "  parameter Real q_load3=1.480572466770676;\n",
      " parameter Real q_load4=0.7571525872248411;\n",
      " parameter Real q_load5=1.9169154673838822;\n",
      "parameter Real q_load6=0.47434610535510885;\n",
      " parameter Real q_load7=0.4094702965042356;\n",
      "parameter Real q_load8=0.43070350818137665;\n"
     ]
    }
   ],
   "source": [
    "print(x.to_string(columns=['data_record_p'],index=False,header=False))\n",
    "print(x.to_string(columns=['data_record_q'],index=False,header=False))"
   ]
  },
  {
   "cell_type": "code",
   "execution_count": 10,
   "metadata": {},
   "outputs": [],
   "source": [
    "microgrid.line['name'] = microgrid.bus.iloc[microgrid.line['to_bus']]['name'].values + \"_\" + microgrid.bus.iloc[microgrid.line['from_bus']]['name'].values\n",
    "microgrid.line['r'] = microgrid.line['length_km'] * microgrid.line['r_ohm_per_km']\n",
    "microgrid.line['x'] = microgrid.line['length_km'] * microgrid.line['x_ohm_per_km']\n",
    "microgrid.line['data_record_r'] = \"parameter Real \" + microgrid.line['name'] + \"_r=\" + microgrid.line['r_ohm_per_km'].astype(str) + \";\"\n",
    "microgrid.line['data_record_x'] = \"parameter Real \" + microgrid.line['name'] + \"_x=\" + microgrid.line['x_ohm_per_km'].astype(str) + \";\""
   ]
  },
  {
   "cell_type": "code",
   "execution_count": 11,
   "metadata": {
    "scrolled": true
   },
   "outputs": [
    {
     "name": "stdout",
     "output_type": "stream",
     "text": [
      "            parameter Real SB_bus1_LV_bus1_r=0.06;\n",
      "        parameter Real CENTRAL_bus_SB_bus1_r=0.06;\n",
      "parameter Real CENTRAL_bus_MultiDomain_bus_r=0.06;\n",
      "         parameter Real PV_bus_CENTRAL_bus_r=0.06;\n",
      "       parameter Real BESS_bus_CENTRAL_bus_r=0.06;\n",
      "           parameter Real sec1_CENTRAL_bus_r=0.06;\n",
      "        parameter Real stadium_CENTRAL_bus_r=0.06;\n",
      "           parameter Real sec2_CENTRAL_bus_r=0.06;\n",
      "                 parameter Real macky_sec1_r=0.06;\n",
      "             parameter Real bookstore_sec1_r=0.06;\n",
      "              parameter Real hellums_macky_r=0.06;\n",
      "          parameter Real bookstore_hellums_r=0.06;\n",
      "                  parameter Real quad_sec2_r=0.06;\n",
      "             parameter Real chw_plant_sec2_r=0.06;\n",
      "                    parameter Real ec_quad_r=0.06;\n",
      "                    parameter Real kitt_ec_r=0.06;\n",
      "             parameter Real chw_plant_kitt_r=0.06;\n",
      "    parameter Real Gen_bus_MultiDomain_bus_r=0.06;\n",
      "            parameter Real SB_bus1_LV_bus1_x=0.144;\n",
      "        parameter Real CENTRAL_bus_SB_bus1_x=0.144;\n",
      "parameter Real CENTRAL_bus_MultiDomain_bus_x=0.144;\n",
      "         parameter Real PV_bus_CENTRAL_bus_x=0.144;\n",
      "       parameter Real BESS_bus_CENTRAL_bus_x=0.144;\n",
      "           parameter Real sec1_CENTRAL_bus_x=0.144;\n",
      "        parameter Real stadium_CENTRAL_bus_x=0.144;\n",
      "           parameter Real sec2_CENTRAL_bus_x=0.144;\n",
      "                 parameter Real macky_sec1_x=0.144;\n",
      "             parameter Real bookstore_sec1_x=0.144;\n",
      "              parameter Real hellums_macky_x=0.144;\n",
      "          parameter Real bookstore_hellums_x=0.144;\n",
      "                  parameter Real quad_sec2_x=0.144;\n",
      "             parameter Real chw_plant_sec2_x=0.144;\n",
      "                    parameter Real ec_quad_x=0.144;\n",
      "                    parameter Real kitt_ec_x=0.144;\n",
      "             parameter Real chw_plant_kitt_x=0.144;\n",
      "    parameter Real Gen_bus_MultiDomain_bus_x=0.144;\n"
     ]
    }
   ],
   "source": [
    "print(microgrid.line.to_string(columns=['data_record_r'],index=False,header=False))\n",
    "print(microgrid.line.to_string(columns=['data_record_x'],index=False,header=False))"
   ]
  }
 ],
 "metadata": {
  "kernelspec": {
   "display_name": "Python [conda env:.conda-ray]",
   "language": "python",
   "name": "conda-env-.conda-ray-py"
  },
  "language_info": {
   "codemirror_mode": {
    "name": "ipython",
    "version": 3
   },
   "file_extension": ".py",
   "mimetype": "text/x-python",
   "name": "python",
   "nbconvert_exporter": "python",
   "pygments_lexer": "ipython3",
   "version": "3.9.9"
  }
 },
 "nbformat": 4,
 "nbformat_minor": 4
}
