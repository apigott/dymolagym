{
 "cells": [
  {
   "cell_type": "code",
   "execution_count": 2,
   "id": "0d5e3c57",
   "metadata": {},
   "outputs": [],
   "source": [
    "from stable_baselines3.sac.policies import MlpPolicy\n",
    "from stable_baselines3.common.vec_env import DummyVecEnv\n",
    "from stable_baselines3 import SAC\n",
    "import logging\n",
    "import gym\n",
    "import numpy as np\n",
    "import os\n",
    "import matplotlib.pyplot as plt\n",
    "import DyMat\n",
    "\n",
    "# add reference libraries here. Current structure will use the relative path from this file\n",
    "libs = [\"../../../OpenIPSL-1.5.0/OpenIPSL/package.mo\",\n",
    "       \"../../../OpenIPSL-1.5.0/ApplicationExamples/IEEE9/package.mo\"]\n",
    "\n",
    "# check that all the paths to library package.mo files exist\n",
    "# DymolaInterface() also checks this but I've found this warning helpful\n",
    "for lib in libs:\n",
    "    if not os.path.isfile(lib):\n",
    "        print(f\"Cannot find the library {lib}\")\n",
    "\n",
    "mo_name = \"IEEE9.IEEE_9_RL\" # name of Modelica model in the Library.Model format\n",
    "env_entry_point = 'examples:IEEE9Env' # Python package location of RL environment\n",
    "\n",
    "time_step = 60 # time delta in seconds\n",
    "positive_reward = 1\n",
    "negative_reward = -100 # penalize RL agent for is_done\n",
    "log_level = 0\n",
    "default_action = [0,0]\n",
    "\n",
    "# these config values are passed to the model specific environment class\n",
    "# mo_name and libs are passed on to the DymolaBaseEnv class\n",
    "config = {\n",
    "    'mo_name': mo_name,\n",
    "    'libs': libs,\n",
    "    'time_step': time_step,\n",
    "    'positive_reward': positive_reward,\n",
    "    'negative_reward': negative_reward,\n",
    "    'log_level': log_level,\n",
    "    'default_action': default_action,\n",
    "    'method':'Dassl'\n",
    "}\n",
    "\n",
    "# enable the model specific class as an OpenAI gym environment\n",
    "from gym.envs.registration import register\n",
    "env_name = \"MicrogridEnv-v1\"\n",
    "\n",
    "register(\n",
    "    id=env_name,\n",
    "    entry_point=env_entry_point,\n",
    "    kwargs=config\n",
    ")"
   ]
  },
  {
   "cell_type": "code",
   "execution_count": null,
   "id": "8d4b97f0",
   "metadata": {},
   "outputs": [],
   "source": [
    "def train_model(env, model_name):\n",
    "    model = SAC(MlpPolicy, env, learning_rate=10**-5, ent_coef='auto_0.1', verbose=1, tensorboard_log='tensorboard_log', batch_size=64)\n",
    "\n",
    "    env.reset()\n",
    "    for _ in range(10):\n",
    "        print(\"this\", os.getcwd())\n",
    "        model.learn(1, reset_num_timesteps=False)\n",
    "        model.save(model_name)\n",
    "    return"
   ]
  },
  {
   "cell_type": "code",
   "execution_count": null,
   "id": "88ccd5e3",
   "metadata": {
    "scrolled": true
   },
   "outputs": [],
   "source": [
    "# create the environment. this will run an initial step and must return [True, [...]] or something is broken\n",
    "# TODO: create error handling/warnings if simulations don't work (i.e. returns [False], [...])\n",
    "env = gym.make(env_name)\n",
    "model_name='test'"
   ]
  },
  {
   "cell_type": "code",
   "execution_count": null,
   "id": "b9a62b31",
   "metadata": {
    "scrolled": true
   },
   "outputs": [],
   "source": [
    "env.reset_dymola()"
   ]
  },
  {
   "cell_type": "code",
   "execution_count": null,
   "id": "198768c7",
   "metadata": {},
   "outputs": [],
   "source": [
    "env.get_state_values()"
   ]
  },
  {
   "cell_type": "code",
   "execution_count": null,
   "id": "0a5b367c",
   "metadata": {
    "scrolled": true
   },
   "outputs": [],
   "source": [
    "train_model(env, model_name)"
   ]
  },
  {
   "cell_type": "code",
   "execution_count": null,
   "id": "c5204dba",
   "metadata": {},
   "outputs": [],
   "source": [
    "env.dymola.importInitialResult('dsres.mat',atTime=env.start)"
   ]
  },
  {
   "cell_type": "code",
   "execution_count": null,
   "id": "ef9ec275",
   "metadata": {
    "scrolled": true
   },
   "outputs": [],
   "source": [
    "env.dymola.simulateExtendedModel(env.model_name, startTime=env.start,\n",
    "                                        stopTime=env.stop,\n",
    "                                        initialNames=env.model_input_names + env.rbc_action_names,\n",
    "                                        initialValues = env.act,\n",
    "                                        finalNames=env.model_output_names)"
   ]
  },
  {
   "cell_type": "code",
   "execution_count": null,
   "id": "2b581f80",
   "metadata": {},
   "outputs": [],
   "source": [
    "env.dymola.getLastErrorLog()"
   ]
  },
  {
   "cell_type": "code",
   "execution_count": null,
   "id": "c063e749",
   "metadata": {},
   "outputs": [],
   "source": [
    "env.reset()"
   ]
  },
  {
   "cell_type": "code",
   "execution_count": null,
   "id": "c7008d12",
   "metadata": {},
   "outputs": [],
   "source": [
    "env.start += 60\n",
    "env.stop += 60"
   ]
  },
  {
   "cell_type": "code",
   "execution_count": null,
   "id": "fa099b10",
   "metadata": {
    "scrolled": true
   },
   "outputs": [],
   "source": [
    "#env.reset()\n",
    "for i in range(3):\n",
    "    action = env.action_space.sample()\n",
    "    env.step(action)\n"
   ]
  },
  {
   "cell_type": "code",
   "execution_count": null,
   "id": "6681839b",
   "metadata": {},
   "outputs": [],
   "source": [
    "for i in range(1,10):\n",
    "    plt.plot(env.debug_data['iEEE_9.my_time'],env.debug_data[f'iEEE_9.B{i}.V'])"
   ]
  },
  {
   "cell_type": "code",
   "execution_count": null,
   "id": "b72d5c2e",
   "metadata": {
    "scrolled": true
   },
   "outputs": [],
   "source": [
    "plt.plot(env.debug_data['iEEE_9.my_time'], env.debug_data['iEEE_9.load_B8.P'])\n",
    "plt.plot(env.debug_data['iEEE_9.my_time'], env.debug_data['iEEE_9.load_B5.P'])\n",
    "plt.plot(env.debug_data['iEEE_9.my_time'], env.debug_data['iEEE_9.load_B6.P'])"
   ]
  },
  {
   "cell_type": "code",
   "execution_count": 32,
   "id": "b6ece477",
   "metadata": {},
   "outputs": [
    {
     "data": {
      "image/png": "[encoded data removed]",
      "text/plain": [
       "<Figure size 432x288 with 1 Axes>"
      ]
     },
     "metadata": {
      "needs_background": "light"
     },
     "output_type": "display_data"
    }
   ],
   "source": [
    "\n",
    "for _ in range(1):\n",
    "#     np.random.seed(0)\n",
    "    x = [[],[],[]]\n",
    "    y = [[0],[0],[0]]\n",
    "    start = -60\n",
    "    end = 0\n",
    "    for i in range(24*60):\n",
    "        for j in range(3):\n",
    "        \n",
    "            start += 60\n",
    "            end += 60\n",
    "            y[j] = y[j][-1] + np.cumsum(np.random.uniform(-0.001,0.001, 60))\n",
    "            x[j] += (1+0.1*np.sin(np.linspace(start*6.28/(24*60*60),end*6.28/(24*60*60), 60)) + y[j]).tolist()\n",
    "    plt.plot(np.multiply(1.25,x[0]))\n",
    "    plt.plot(x[1])\n",
    "    plt.plot(np.multiply(0.9,x[2]))\n"
   ]
  },
  {
   "cell_type": "code",
   "execution_count": 23,
   "id": "8e77650b",
   "metadata": {},
   "outputs": [],
   "source": [
    "class Tester:\n",
    "    def __init__(self):\n",
    "        np.random.seed(0)\n",
    "        self.x = np.random.uniform(-1,1)\n",
    "\n",
    "a = Tester()\n",
    "b = Tester()"
   ]
  },
  {
   "cell_type": "code",
   "execution_count": 24,
   "id": "f7516b21",
   "metadata": {},
   "outputs": [
    {
     "data": {
      "text/plain": [
       "(0.0976270078546495, 0.0976270078546495)"
      ]
     },
     "execution_count": 24,
     "metadata": {},
     "output_type": "execute_result"
    }
   ],
   "source": [
    "a.x, b.x"
   ]
  },
  {
   "cell_type": "code",
   "execution_count": null,
   "id": "3f932502",
   "metadata": {},
   "outputs": [],
   "source": []
  }
 ],
 "metadata": {
  "kernelspec": {
   "display_name": "Python [conda env:.conda-myenv] *",
   "language": "python",
   "name": "conda-env-.conda-myenv-py"
  },
  "language_info": {
   "codemirror_mode": {
    "name": "ipython",
    "version": 3
   },
   "file_extension": ".py",
   "mimetype": "text/x-python",
   "name": "python",
   "nbconvert_exporter": "python",
   "pygments_lexer": "ipython3",
   "version": "3.9.2"
  }
 },
 "nbformat": 4,
 "nbformat_minor": 5
}
