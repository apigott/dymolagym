{
 "cells": [
  {
   "cell_type": "code",
   "execution_count": 1,
   "id": "0d5e3c57",
   "metadata": {},
   "outputs": [],
   "source": [
    "from stable_baselines3.sac.policies import MlpPolicy\n",
    "from stable_baselines3.common.vec_env import DummyVecEnv\n",
    "from stable_baselines3 import SAC\n",
    "import logging\n",
    "import gym\n",
    "import numpy as np\n",
    "import os\n",
    "\n",
    "# add reference libraries here. Current structure will use the relative path from this file\n",
    "libs = [\"../../../OpenIPSL-1.5.0/OpenIPSL/package.mo\",\n",
    "       \"../../../OpenIPSL-1.5.0/ApplicationExamples/IEEE9/package.mo\"]\n",
    "\n",
    "# check that all the paths to library package.mo files exist\n",
    "# DymolaInterface() also checks this but I've found this warning helpful\n",
    "for lib in libs:\n",
    "    if not os.path.isfile(lib):\n",
    "        print(f\"Cannot find the library {lib}\")\n",
    "\n",
    "mo_name = \"IEEE9.IEEE_9_wVariation\" # name of Modelica model in the Library.Model format\n",
    "env_entry_point = 'examples:IEEE9EnvV2' # Python package location of RL environment\n",
    "\n",
    "time_step = 1 # time delta in seconds\n",
    "positive_reward = 1\n",
    "negative_reward = -100 # penalize RL agent for is_done\n",
    "log_level = 0\n",
    "default_action = [0,0,0]\n",
    "\n",
    "# these config values are passed to the model specific environment class\n",
    "# mo_name and libs are passed on to the DymolaBaseEnv class\n",
    "config = {\n",
    "    'mo_name': mo_name,\n",
    "    'libs': libs,\n",
    "#     'actions': actions,\n",
    "#     'states': states,\n",
    "    'time_step': time_step,\n",
    "    'positive_reward': positive_reward,\n",
    "    'negative_reward': negative_reward,\n",
    "    'log_level': log_level,\n",
    "    'default_action': default_action,\n",
    "    'method':'Dassl'\n",
    "}\n",
    "\n",
    "# enable the model specific class as an OpenAI gym environment\n",
    "from gym.envs.registration import register\n",
    "env_name = \"MicrogridEnv-v0\"\n",
    "\n",
    "register(\n",
    "    id=env_name,\n",
    "    entry_point=env_entry_point,\n",
    "    kwargs=config\n",
    ")"
   ]
  },
  {
   "cell_type": "code",
   "execution_count": 2,
   "id": "88ccd5e3",
   "metadata": {},
   "outputs": [
    {
     "name": "stdout",
     "output_type": "stream",
     "text": [
      "resetting dymola...\n",
      "dymola has been reset\n",
      "the model will be reset\n",
      "the model has been reset\n"
     ]
    },
    {
     "name": "stderr",
     "output_type": "stream",
     "text": [
      "C:\\Users\\Aisling\\.conda\\envs\\myenv\\lib\\site-packages\\gym\\logger.py:30: UserWarning: \u001b[33mWARN: Box bound precision lowered by casting to float32\u001b[0m\n",
      "  warnings.warn(colorize('%s: %s'%('WARN', msg % args), 'yellow'))\n"
     ]
    }
   ],
   "source": [
    "# create the environment. this will run an initial step and must return [True, [...]] or something is broken\n",
    "# TODO: create error handling/warnings if simulations don't work (i.e. returns [False], [...])\n",
    "env = gym.make(env_name)"
   ]
  },
  {
   "cell_type": "code",
   "execution_count": null,
   "id": "808ad1f2",
   "metadata": {},
   "outputs": [],
   "source": [
    "mode = 'learn'\n",
    "\n",
    "if mode == 'load':\n",
    "    model = SAC.load(\"IEEE9_5k_v3\", env=env)\n",
    "else:\n",
    "    model = SAC(MlpPolicy, env, learning_rate=10**-4, verbose=1)\n",
    "    "
   ]
  },
  {
   "cell_type": "code",
   "execution_count": null,
   "id": "87cb7273",
   "metadata": {
    "scrolled": true
   },
   "outputs": [],
   "source": [
    "import time\n",
    "\n",
    "tic = time.time()\n",
    "\n",
    "env.reset()\n",
    "model.learn(50, reset_num_timesteps=False)\n",
    "model.save(\"IEEE9_5k_v4\")\n",
    "\n",
    "toc = time.time()\n",
    "print(toc-tic)"
   ]
  },
  {
   "cell_type": "code",
   "execution_count": null,
   "id": "8c15ff3e",
   "metadata": {},
   "outputs": [],
   "source": [
    "env.reset_dymola()"
   ]
  },
  {
   "cell_type": "code",
   "execution_count": 3,
   "id": "d9b9177f",
   "metadata": {},
   "outputs": [
    {
     "name": "stdout",
     "output_type": "stream",
     "text": [
      "importing...\n",
      "importing...\n",
      "importing...\n",
      "importing...\n",
      "importing...\n",
      "importing...\n",
      "importing...\n",
      "importing...\n",
      "importing...\n",
      "importing...\n",
      "importing...\n",
      "importing...\n",
      "importing...\n",
      "importing...\n",
      "importing...\n",
      "importing...\n",
      "importing...\n",
      "importing...\n",
      "importing...\n",
      "importing...\n"
     ]
    },
    {
     "data": {
      "image/png": "[encoded data removed]",
      "text/plain": [
       "<Figure size 432x288 with 1 Axes>"
      ]
     },
     "metadata": {
      "needs_background": "light"
     },
     "output_type": "display_data"
    }
   ],
   "source": [
    "import matplotlib.pyplot as plt\n",
    "# as a sanity check, plot the voltage at bus 5 over x timesteps\n",
    "nsteps = 20\n",
    "# env.model_output_names += ['B5.V'] # add this to the reported state values -- will crash the model for learning though\n",
    "b5_voltage = []\n",
    "for i in range(nsteps):\n",
    "    action = [0,0,0] # weird behavior where the model thinks the action output by model.predict has len() = 2\n",
    "    obs, reward, done, info = env.step(action)\n",
    "    b5_voltage += [obs[0]]\n",
    "    \n",
    "plt.plot(np.arange(nsteps), b5_voltage)\n",
    "plt.show()\n",
    "\n",
    "env.model_output_names = env.model_output_names[:-1]"
   ]
  },
  {
   "cell_type": "code",
   "execution_count": null,
   "id": "f6b5f3cd",
   "metadata": {
    "scrolled": true
   },
   "outputs": [],
   "source": [
    "# show performance over 10 seconds in a do-nothing case (control voltage set at 1.0 pu)\n",
    "obs = env.reset()\n",
    "sum_rewards = 0\n",
    "dn_voltage = []\n",
    "nsteps = 3\n",
    "for i in range(nsteps):\n",
    "#     print(i)\n",
    "    action = [0,0,0] # weird behavior where the model thinks the action output by model.predict has len() = 2\n",
    "    obs, reward, done, info = env.step(action)\n",
    "#     print(env.start)\n",
    "#     if done:\n",
    "#         env.reset()\n",
    "    dn_voltage += env.state[:9]\n",
    "    sum_rewards += reward"
   ]
  },
  {
   "cell_type": "code",
   "execution_count": null,
   "id": "fa099b10",
   "metadata": {
    "scrolled": true
   },
   "outputs": [],
   "source": [
    "# show performance over 10 seconds in a do-nothing case (control voltage set at 1.0 pu)\n",
    "obs = env.reset()\n",
    "# action = model.predict(obs)\n",
    "rand_sum_rewards = 0\n",
    "rand_voltage = []\n",
    "for i in range(nsteps):\n",
    "#     print(i)\n",
    "    action = env.action_space.sample() # forces change in p_mech reference for dispatch\n",
    "    obs, reward, done, info = env.step(action)\n",
    "#     print(env.state)\n",
    "    rand_voltage += env.state[:9]\n",
    "    rand_sum_rewards += reward"
   ]
  },
  {
   "cell_type": "code",
   "execution_count": null,
   "id": "8821e805",
   "metadata": {
    "scrolled": true
   },
   "outputs": [],
   "source": [
    "# show performance over 10 seconds in a do-nothing case (control voltage set at 1.0 pu)\n",
    "obs = env.reset()\n",
    "# action = model.predict(obs)\n",
    "rl_sum_rewards = 0\n",
    "b_voltage = []\n",
    "for i in range(nsteps):\n",
    "#     print(i)\n",
    "    action = model.predict(obs)[0] # forces change in p_mech reference for dispatch\n",
    "    obs, reward, done, info = env.step(action)\n",
    "#     print(env.state)\n",
    "    b_voltage += env.state[:9]\n",
    "    rl_sum_rewards += reward"
   ]
  },
  {
   "cell_type": "code",
   "execution_count": null,
   "id": "f2518377",
   "metadata": {
    "scrolled": false
   },
   "outputs": [],
   "source": [
    "from matplotlib import pyplot as plt \n",
    "import numpy as np\n",
    "    \n",
    "# x-axis values \n",
    "x = np.arange(nsteps) \n",
    "fig, ax = plt.subplots(3,3, figsize=(18,18))  \n",
    "for i in range(3):\n",
    "    for j in range(3):\n",
    "        # Y-axis values \n",
    "        w = np.reshape(rand_voltage, (9,-1))[3*i+j,:]\n",
    "        y = np.reshape(b_voltage, (9,-1))[3*i+j,:]\n",
    "        z = np.reshape(dn_voltage, (9,-1))[3*i+j,:]\n",
    "#         print(sum(abs(w-1))/50)\n",
    "#         print(sum(abs(y-1))/50)\n",
    "#         print(sum(abs(z-1))/50)\n",
    "        # Function to plot scatter \n",
    "        ax[i][j].plot(x, abs(w-1), 'b-')\n",
    "        ax[i][j].plot(x, abs(y-1), 'g-') \n",
    "        ax[i][j].plot(x, abs(z-1), 'r-')\n",
    "        \n",
    "        ax[i][j].plot(x, np.mean(abs(w-1))*np.ones(nsteps), 'b--')\n",
    "        ax[i][j].plot(x, np.mean(abs(y-1))*np.ones(nsteps), 'g--') \n",
    "        ax[i][j].plot(x, np.mean(abs(z-1))*np.ones(nsteps), 'r--')\n",
    "        \n",
    "        if np.mean(abs(y-1)) < np.mean(abs(z-1)):\n",
    "            print(3*i+j)\n",
    "            if np.mean(abs(w-1))  < np.mean(abs(z-1)):\n",
    "                print('not that great')\n",
    "        ax[i][j].legend(['Randomized', 'RL Agent', 'Baseline'])\n",
    "        ax[i][j].set_xlabel('Time (seconds)')\n",
    "        ax[i][j].set_ylabel(f'Bus {3*i+j} Voltage (p.u.)')\n",
    "        # function to show the plot \n",
    "plt.show()"
   ]
  },
  {
   "cell_type": "code",
   "execution_count": null,
   "id": "bc2b989f",
   "metadata": {},
   "outputs": [],
   "source": [
    "from matplotlib import pyplot as plt \n",
    " \n",
    "    \n",
    "# x-axis values \n",
    "x = np.arange(50) \n",
    "fig, ax = plt.subplots(3,3, figsize=(18,18))  \n",
    "for i in range(3):\n",
    "    for j in range(3):\n",
    "        # Y-axis values \n",
    "        w = np.reshape(rand_voltage, (9,-1))[3*i+j,:]\n",
    "        y = np.reshape(b_voltage, (9,-1))[3*i+j,:]\n",
    "        z = np.reshape(dn_voltage, (9,-1))[3*i+j,:]\n",
    "        print(sum(abs(w-1))/50)\n",
    "        print(sum(abs(y-1))/50)\n",
    "        print(sum(abs(z-1))/50)\n",
    "        # Function to plot scatter \n",
    "        ax[i][j].plot(x, w)\n",
    "        ax[i][j].plot(x, y) \n",
    "        ax[i][j].plot(x, z)\n",
    "        ax[i][j].legend(['Randomized', 'RL Agent', 'Baseline'])\n",
    "        ax[i][j].set_xlabel('Time (seconds)')\n",
    "        ax[i][j].set_ylabel(f'Bus {3*i+j} Voltage (p.u.)')\n",
    "        # function to show the plot \n",
    "plt.show()"
   ]
  },
  {
   "cell_type": "code",
   "execution_count": null,
   "id": "ce9f5fc3",
   "metadata": {},
   "outputs": [],
   "source": []
  }
 ],
 "metadata": {
  "kernelspec": {
   "display_name": "Python [conda env:.conda-myenv] *",
   "language": "python",
   "name": "conda-env-.conda-myenv-py"
  },
  "language_info": {
   "codemirror_mode": {
    "name": "ipython",
    "version": 3
   },
   "file_extension": ".py",
   "mimetype": "text/x-python",
   "name": "python",
   "nbconvert_exporter": "python",
   "pygments_lexer": "ipython3",
   "version": "3.9.2"
  }
 },
 "nbformat": 4,
 "nbformat_minor": 5
}
