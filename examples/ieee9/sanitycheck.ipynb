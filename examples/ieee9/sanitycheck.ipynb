{
 "cells": [
  {
   "cell_type": "code",
   "execution_count": 1,
   "id": "0d5e3c57",
   "metadata": {},
   "outputs": [],
   "source": [
    "from stable_baselines3.sac.policies import MlpPolicy\n",
    "from stable_baselines3.common.vec_env import DummyVecEnv\n",
    "from stable_baselines3 import SAC\n",
    "import logging\n",
    "import gym\n",
    "import numpy as np\n",
    "import os\n",
    "\n",
    "# add reference libraries here. Current structure will use the relative path from this file\n",
    "libs = [\"../../../OpenIPSL-1.5.0/OpenIPSL/package.mo\",\n",
    "       \"../../../OpenIPSL-1.5.0/ApplicationExamples/IEEE9/package.mo\"]\n",
    "\n",
    "# check that all the paths to library package.mo files exist\n",
    "# DymolaInterface() also checks this but I've found this warning helpful\n",
    "for lib in libs:\n",
    "    if not os.path.isfile(lib):\n",
    "        print(f\"Cannot find the library {lib}\")\n",
    "\n",
    "mo_name = \"IEEE9.IEEE_9_wVariation\" # name of Modelica model in the Library.Model format\n",
    "env_entry_point = 'examples:IEEE9Env' # Python package location of RL environment\n",
    "\n",
    "time_step = 1 # time delta in seconds\n",
    "positive_reward = 1\n",
    "negative_reward = -100 # penalize RL agent for is_done\n",
    "log_level = 0\n",
    "default_action = [0,0,0]\n",
    "\n",
    "# these config values are passed to the model specific environment class\n",
    "# mo_name and libs are passed on to the DymolaBaseEnv class\n",
    "config = {\n",
    "    'mo_name': mo_name,\n",
    "    'libs': libs,\n",
    "#     'actions': actions,\n",
    "#     'states': states,\n",
    "    'time_step': time_step,\n",
    "    'positive_reward': positive_reward,\n",
    "    'negative_reward': negative_reward,\n",
    "    'log_level': log_level,\n",
    "    'default_action': default_action,\n",
    "    'method':'DASSL'\n",
    "}\n",
    "\n",
    "# enable the model specific class as an OpenAI gym environment\n",
    "from gym.envs.registration import register\n",
    "env_name = \"MicrogridEnv-v1\"\n",
    "\n",
    "register(\n",
    "    id=env_name,\n",
    "    entry_point=env_entry_point,\n",
    "    kwargs=config\n",
    ")"
   ]
  },
  {
   "cell_type": "code",
   "execution_count": 2,
   "id": "88ccd5e3",
   "metadata": {},
   "outputs": [
    {
     "name": "stdout",
     "output_type": "stream",
     "text": [
      "resetting dymola...\n",
      "dymola has been reset\n",
      "the model will be reset\n",
      "the model has been reset\n"
     ]
    },
    {
     "name": "stderr",
     "output_type": "stream",
     "text": [
      "C:\\Users\\Aisling\\.conda\\envs\\myenv\\lib\\site-packages\\gym\\logger.py:30: UserWarning: \u001b[33mWARN: Box bound precision lowered by casting to float32\u001b[0m\n",
      "  warnings.warn(colorize('%s: %s'%('WARN', msg % args), 'yellow'))\n"
     ]
    }
   ],
   "source": [
    "# create the environment. this will run an initial step and must return [True, [...]] or something is broken\n",
    "# TODO: create error handling/warnings if simulations don't work (i.e. returns [False], [...])\n",
    "env = gym.make(env_name)\n",
    "env.model_output_names += ['load_B5.variance.y']"
   ]
  },
  {
   "cell_type": "code",
   "execution_count": 5,
   "id": "f6b5f3cd",
   "metadata": {
    "scrolled": true
   },
   "outputs": [
    {
     "name": "stdout",
     "output_type": "stream",
     "text": [
      "the model will be reset\n",
      "the model has been reset\n",
      "the model will be reset\n",
      "the model has been reset\n",
      "the model will be reset\n",
      "the model has been reset\n"
     ]
    },
    {
     "data": {
      "text/plain": [
       "Text(0, 0.5, 'Variance Load 5 (p.u.)')"
      ]
     },
     "execution_count": 5,
     "metadata": {},
     "output_type": "execute_result"
    },
    {
     "data": {
      "image/png": "[encoded data removed]",
      "text/plain": [
       "<Figure size 432x288 with 2 Axes>"
      ]
     },
     "metadata": {
      "needs_background": "light"
     },
     "output_type": "display_data"
    }
   ],
   "source": [
    "# show performance over 10 seconds in a do-nothing case (control voltage set at 1.0 pu)\n",
    "# obs = env.reset()\n",
    "sum_rewards = 0\n",
    "\n",
    "import matplotlib.pyplot as plt\n",
    "# plt = plt.plot()\n",
    "fig, ax = plt.subplots(2)\n",
    "env.model_output_names += ['B5.V']\n",
    "env.model_output_names += ['load_B5.variance.y']\n",
    "for ts in [1,5,10]:\n",
    "    dn_voltage = []\n",
    "    variance = []\n",
    "    env.tau = ts\n",
    "    env.reset()\n",
    "    \n",
    "    for i in range(int(50/ts)):\n",
    "    #     print(i)\n",
    "        action = [0,0,0] # weird behavior where the model thinks the action output by model.predict has len() = 2\n",
    "        obs, reward, done, info = env.step(action)\n",
    "    #     print(env.start)\n",
    "    #     if done:\n",
    "    #         env.reset()\n",
    "        dn_voltage += [env.state[-2]]\n",
    "#         print(env.state[:9])\n",
    "        variance += [env.state[-1]]\n",
    "        sum_rewards += reward\n",
    "\n",
    "    # x-axis values \n",
    "    x = np.arange(int(50/ts))*env.tau+env.tau \n",
    "#     w = np.reshape(dn_voltage, (9,-1))[5,:]\n",
    "    ax[0].plot(x,dn_voltage)\n",
    "    ax[1].plot(x,variance)\n",
    "# plt.plot(x,variance)\n",
    "# plt.legend(['1sec', '5sec', '10sec'])\n",
    "ax[1].set_xlabel('Time (sec)')\n",
    "ax[0].set_ylabel('Voltage (p.u.)')\n",
    "ax[1].set_ylabel('Variance Load 5 (p.u.)')\n",
    "# plt.show()"
   ]
  },
  {
   "cell_type": "code",
   "execution_count": null,
   "id": "bc2b989f",
   "metadata": {},
   "outputs": [],
   "source": [
    "env.dymola.simulateExtendedModel(env.model_name, startTime=0, stopTime=0, finalNames=['load_B5.variance.period','load_B5.variance.nperiod'])"
   ]
  },
  {
   "cell_type": "code",
   "execution_count": null,
   "id": "af5993ef",
   "metadata": {},
   "outputs": [],
   "source": [
    "for i in range(int(50/ts)):\n",
    "#     print(i)\n",
    "    action = [0,0,0] # weird behavior where the model thinks the action output by model.predict has len() = 2\n",
    "    obs, reward, done, info = env.step(action)\n",
    "#     print(env.start)\n",
    "#     if done:\n",
    "#         env.reset()\n",
    "    dn_voltage += env.state[:9]\n",
    "#     print(env.state[:9])\n",
    "    variance += [env.state[-1]]\n",
    "    sum_rewards += reward"
   ]
  },
  {
   "cell_type": "code",
   "execution_count": null,
   "id": "28771e6e",
   "metadata": {},
   "outputs": [],
   "source": [
    "# show performance over 10 seconds in a do-nothing case (control voltage set at 1.0 pu)\n",
    "# obs = env.reset()\n",
    "sum_rewards = 0\n",
    "env.method='Dassl'\n",
    "env.model_output_names+=['B5.V']\n",
    "import matplotlib.pyplot as plt\n",
    "# plt = plt.plot()\n",
    "fig, ax = plt.subplots(3,4, figsize=(24,24))\n",
    "i = 0\n",
    "j = 0\n",
    "for i in range(1):\n",
    "    timestep = [None, 0.01, 0.0001][i]\n",
    "    env.fixedtimestep=timestep\n",
    "    j = 0\n",
    "    for j in range(4):\n",
    "        ts = [1,5,10,25][j]\n",
    "        dn_voltage = []\n",
    "        variance = []\n",
    "        env.tau = ts\n",
    "        env.reset()\n",
    "\n",
    "        for k in range(int(50/ts)):\n",
    "        #     print(i)\n",
    "            action = [0,0,0] # weird behavior where the model thinks the action output by model.predict has len() = 2\n",
    "            obs, reward, done, info = env.step(action)\n",
    "        #     print(env.start)\n",
    "        #     if done:\n",
    "        #         env.reset()\n",
    "            dn_voltage += env.state[:-1]\n",
    "    #         print(env.state[:9])\n",
    "            variance += [env.state[-1]]\n",
    "            sum_rewards += reward\n",
    "\n",
    "    # x-axis values \n",
    "        x = np.arange(int(50/ts))*ts+ts\n",
    "#         w = np.reshape(dn_voltage, (9,-1))\n",
    "        ax[i][j].plot(x,dn_voltage)\n",
    "        ax[i][j].set_title(f'fixedstepsize={timestep}, RL dt={ts}')\n",
    "        \n",
    "    # plt.plot(x,variance)\n",
    "#     plt.legend(['1sec', '5sec', '10sec'])\n",
    "plt.show()"
   ]
  },
  {
   "cell_type": "code",
   "execution_count": null,
   "id": "43e187d7",
   "metadata": {},
   "outputs": [],
   "source": [
    "env.state"
   ]
  },
  {
   "cell_type": "code",
   "execution_count": null,
   "id": "507d0798",
   "metadata": {},
   "outputs": [],
   "source": [
    "# show performance over 10 seconds in a do-nothing case (control voltage set at 1.0 pu)\n",
    "# obs = env.reset()\n",
    "sum_rewards = 0\n",
    "env.method='Euler'\n",
    "import matplotlib.pyplot as plt\n",
    "# plt = plt.plot()\n",
    "fig, ax = plt.subplots(3,4, figsize=(24,24))\n",
    "i = 0\n",
    "j = 0\n",
    "for i in range(1):\n",
    "    timestep = [1][i]\n",
    "    env.fixedtimestep=timestep\n",
    "    j = 0\n",
    "    for j in range(1):\n",
    "        ts = [10][j]\n",
    "        dn_voltage = []\n",
    "        variance = []\n",
    "        env.tau = ts\n",
    "        env.reset()\n",
    "\n",
    "        for k in range(int(50/ts)):\n",
    "        #     print(i)\n",
    "            action = [0,0,0] # weird behavior where the model thinks the action output by model.predict has len() = 2\n",
    "            obs, reward, done, info = env.step(action)\n",
    "        #     print(env.start)\n",
    "        #     if done:\n",
    "        #         env.reset()\n",
    "            dn_voltage += env.state[:9]\n",
    "    #         print(env.state[:9])\n",
    "            variance += [env.state[-1]]\n",
    "            sum_rewards += reward\n",
    "\n",
    "    # x-axis values \n",
    "        x = np.arange(int(50/ts))*ts+ts\n",
    "        w = np.reshape(dn_voltage, (9,-1))[5,:]\n",
    "        ax[i][j].plot(x,w)\n",
    "        ax[i][j].set_title(f'fixedstepsize={timestep}, RL dt={ts}')\n",
    "        \n",
    "    # plt.plot(x,variance)\n",
    "#     plt.legend(['1sec', '5sec', '10sec'])\n",
    "plt.show()"
   ]
  },
  {
   "cell_type": "code",
   "execution_count": null,
   "id": "2734e3ee",
   "metadata": {},
   "outputs": [],
   "source": []
  }
 ],
 "metadata": {
  "kernelspec": {
   "display_name": "Python [conda env:.conda-myenv] *",
   "language": "python",
   "name": "conda-env-.conda-myenv-py"
  },
  "language_info": {
   "codemirror_mode": {
    "name": "ipython",
    "version": 3
   },
   "file_extension": ".py",
   "mimetype": "text/x-python",
   "name": "python",
   "nbconvert_exporter": "python",
   "pygments_lexer": "ipython3",
   "version": "3.9.2"
  }
 },
 "nbformat": 4,
 "nbformat_minor": 5
}
