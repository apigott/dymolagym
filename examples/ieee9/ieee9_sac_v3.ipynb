{
 "cells": [
  {
   "cell_type": "code",
   "execution_count": 1,
   "id": "0d5e3c57",
   "metadata": {},
   "outputs": [],
   "source": [
    "from stable_baselines3.sac.policies import MlpPolicy\n",
    "from stable_baselines3.common.vec_env import DummyVecEnv\n",
    "from stable_baselines3 import SAC\n",
    "import logging\n",
    "import gym\n",
    "import numpy as np\n",
    "import os\n",
    "\n",
    "# add reference libraries here. Current structure will use the relative path from this file\n",
    "libs = [\"../../../OpenIPSL-1.5.0/OpenIPSL/package.mo\"]\n",
    "\n",
    "# check that all the paths to library package.mo files exist\n",
    "# DymolaInterface() also checks this but I've found this warning helpful\n",
    "for lib in libs:\n",
    "    if not os.path.isfile(lib):\n",
    "        print(f\"Cannot find the library {lib}\")\n",
    "\n",
    "mo_name = \"OpenIPSL.Examples.IEEE9.IEEE_9_Base_Case_OL\" # name of Modelica model in the Library.Model format\n",
    "env_entry_point = 'examples:IEEE9Env' # Python package location of RL environment\n",
    "\n",
    "time_step = 1.5 # time delta in seconds\n",
    "positive_reward = 1\n",
    "negative_reward = -100 # penalize RL agent for is_done\n",
    "log_level = 0\n",
    "default_action = [0,0,0]\n",
    "\n",
    "# these config values are passed to the model specific environment class\n",
    "# mo_name and libs are passed on to the DymolaBaseEnv class\n",
    "config = {\n",
    "    'mo_name': mo_name,\n",
    "    'libs': libs,\n",
    "#     'actions': actions,\n",
    "#     'states': states,\n",
    "    'time_step': time_step,\n",
    "    'positive_reward': positive_reward,\n",
    "    'negative_reward': negative_reward,\n",
    "    'log_level': log_level,\n",
    "    'default_action': default_action\n",
    "}\n",
    "\n",
    "# enable the model specific class as an OpenAI gym environment\n",
    "from gym.envs.registration import register\n",
    "env_name = \"MicrogridEnv-v0\"\n",
    "\n",
    "register(\n",
    "    id=env_name,\n",
    "    entry_point=env_entry_point,\n",
    "    kwargs=config\n",
    ")"
   ]
  },
  {
   "cell_type": "code",
   "execution_count": 2,
   "id": "88ccd5e3",
   "metadata": {},
   "outputs": [
    {
     "name": "stdout",
     "output_type": "stream",
     "text": [
      "resetting dymola...\n",
      "dymola has been reset\n",
      "the model will be reset\n",
      "the model has been reset\n"
     ]
    },
    {
     "name": "stderr",
     "output_type": "stream",
     "text": [
      "C:\\Users\\Aisling\\.conda\\envs\\myenv\\lib\\site-packages\\gym\\logger.py:30: UserWarning: \u001b[33mWARN: Box bound precision lowered by casting to float32\u001b[0m\n",
      "  warnings.warn(colorize('%s: %s'%('WARN', msg % args), 'yellow'))\n"
     ]
    }
   ],
   "source": [
    "# create the environment. this will run an initial step and must return [True, [...]] or something is broken\n",
    "# TODO: create error handling/warnings if simulations don't work (i.e. returns [False], [...])\n",
    "env = gym.make(env_name)"
   ]
  },
  {
   "cell_type": "code",
   "execution_count": 7,
   "id": "9177595f",
   "metadata": {},
   "outputs": [
    {
     "name": "stdout",
     "output_type": "stream",
     "text": [
      "resetting dymola...\n",
      "dymola has been reset\n"
     ]
    }
   ],
   "source": [
    "env.reset_dymola()"
   ]
  },
  {
   "cell_type": "code",
   "execution_count": null,
   "id": "808ad1f2",
   "metadata": {},
   "outputs": [],
   "source": [
    "mode = 'learn'\n",
    "\n",
    "if mode == 'load':\n",
    "    model = SAC.load(\"IEEE9_5k_v2\", env=env)\n",
    "else:\n",
    "    model = SAC(MlpPolicy, env, learning_rate=10**-4, verbose=1)\n",
    "    "
   ]
  },
  {
   "cell_type": "code",
   "execution_count": null,
   "id": "87cb7273",
   "metadata": {
    "scrolled": true
   },
   "outputs": [],
   "source": [
    "import time\n",
    "\n",
    "tic = time.time()\n",
    "\n",
    "# for i in range(10):\n",
    "model.env.reset() \n",
    "model.learn(5, reset_num_timesteps=False)\n",
    "model.save(\"IEEE9_5k_v3\")\n",
    "\n",
    "toc = time.time()\n",
    "print(toc-tic)"
   ]
  },
  {
   "cell_type": "code",
   "execution_count": 8,
   "id": "f6b5f3cd",
   "metadata": {
    "scrolled": true
   },
   "outputs": [
    {
     "name": "stdout",
     "output_type": "stream",
     "text": [
      "the model will be reset\n",
      "the model has been reset\n",
      "0\n",
      "1\n",
      "2\n",
      "3\n",
      "4\n",
      "5\n",
      "6\n",
      "7\n",
      "8\n",
      "9\n",
      "10\n",
      "11\n",
      "12\n",
      "13\n",
      "14\n",
      "15\n",
      "16\n",
      "17\n",
      "18\n",
      "19\n",
      "20\n",
      "21\n",
      "22\n",
      "23\n",
      "24\n",
      "25\n",
      "26\n",
      "27\n",
      "28\n",
      "29\n",
      "30\n",
      "31\n",
      "32\n",
      "33\n"
     ]
    }
   ],
   "source": [
    "# show performance over 10 seconds in a do-nothing case (control voltage set at 1.0 pu)\n",
    "obs = env.reset()\n",
    "sum_rewards = 0\n",
    "dn_voltage = []\n",
    "for i in range(34):\n",
    "    print(i)\n",
    "    #action = model.predict(obs) # forces change in p_mech reference for dispatch\n",
    "    action = [0,0,0] # weird behavior where the model thinks the action output by model.predict has len() = 2\n",
    "    obs, reward, done, info = env.step(action)\n",
    "#     print(env.start)\n",
    "#     if done:\n",
    "#         env.reset()\n",
    "    dn_voltage += env.state[:9]\n",
    "    sum_rewards += reward"
   ]
  },
  {
   "cell_type": "code",
   "execution_count": null,
   "id": "fa099b10",
   "metadata": {
    "scrolled": true
   },
   "outputs": [],
   "source": [
    "# show performance over 10 seconds in a do-nothing case (control voltage set at 1.0 pu)\n",
    "obs = env.reset()\n",
    "# action = model.predict(obs)\n",
    "rand_sum_rewards = 0\n",
    "rand_voltage = []\n",
    "for i in range(50):\n",
    "#     print(i)\n",
    "    action = env.action_space.sample() # forces change in p_mech reference for dispatch\n",
    "    obs, reward, done, info = env.step(action)\n",
    "    print(env.state)\n",
    "    rand_voltage += env.state[:9]\n",
    "    rand_sum_rewards += reward"
   ]
  },
  {
   "cell_type": "code",
   "execution_count": null,
   "id": "8821e805",
   "metadata": {
    "scrolled": true
   },
   "outputs": [],
   "source": [
    "# show performance over 10 seconds in a do-nothing case (control voltage set at 1.0 pu)\n",
    "obs = env.reset()\n",
    "# action = model.predict(obs)\n",
    "rl_sum_rewards = 0\n",
    "b_voltage = []\n",
    "for i in range(50):\n",
    "#     print(i)\n",
    "    action = model.predict(obs)[0] # forces change in p_mech reference for dispatch\n",
    "    obs, reward, done, info = env.step(action)\n",
    "    print(env.state)\n",
    "    b_voltage += env.state[:9]\n",
    "    rl_sum_rewards += reward"
   ]
  },
  {
   "cell_type": "code",
   "execution_count": null,
   "id": "632a0759",
   "metadata": {},
   "outputs": [],
   "source": [
    "for i in range(100):\n",
    "    obs = env.reset()\n",
    "    model.learn(100, reset_num_timesteps=False)"
   ]
  },
  {
   "cell_type": "code",
   "execution_count": null,
   "id": "52c88f6e",
   "metadata": {},
   "outputs": [],
   "source": [
    "from matplotlib import pyplot as plt \n",
    "  \n",
    "# x-axis values \n",
    "x = np.arange(10) \n",
    "  \n",
    "# Y-axis values \n",
    "w = np.reshape(dn_voltage, (9,-1))\n",
    "\n",
    "# Function to plot scatter \n",
    "for i in range(9):\n",
    "    plt.plot(x, w[i,:])\n",
    "# function to show the plot \n",
    "plt.show()"
   ]
  },
  {
   "cell_type": "code",
   "execution_count": 9,
   "id": "369a9151",
   "metadata": {},
   "outputs": [
    {
     "name": "stdout",
     "output_type": "stream",
     "text": [
      "0.034889293384728945\n",
      "0.04050197954774516\n",
      "0.025949577780470273\n",
      "0.012465534304989114\n",
      "0.008717416657678294\n",
      "0.011660198717188259\n",
      "0.022750343353999457\n",
      "0.037080357730898274\n",
      "0.05037069531731884\n"
     ]
    },
    {
     "data": {
      "image/png": "[encoded data removed]",
      "text/plain": [
       "<Figure size 432x288 with 1 Axes>"
      ]
     },
     "metadata": {
      "needs_background": "light"
     },
     "output_type": "display_data"
    }
   ],
   "source": [
    "from matplotlib import pyplot as plt \n",
    "  \n",
    "# x-axis values \n",
    "x = time_step*np.arange(34) \n",
    "\n",
    "for i in range(9):\n",
    "    # Y-axis values \n",
    "    w = np.reshape(dn_voltage, (9,-1))[i,:]\n",
    "    # y = np.reshape(b_voltage, (9,-1))[0,:]\n",
    "    # z = np.reshape(dn_voltage, (9,-1))[0,:]\n",
    "\n",
    "    print(sum(abs(w-1))/50)\n",
    "    # print(sum(abs(y-1))/50)\n",
    "    # print(sum(abs(z-1))/50)\n",
    "\n",
    "    # Function to plot scatter \n",
    "    plt.plot(x, w)\n",
    "    # plt.plot(x, abs(y-1)) \n",
    "    # plt.plot(x, abs(z-1))\n",
    "# plt.legend(['Baseline', 'RL Agent', 'Randomized'])\n",
    "plt.xlabel('Time (seconds)')\n",
    "plt.ylabel('Bus 1 Voltage (p.u.)')\n",
    "# function to show the plot \n",
    "plt.show()"
   ]
  },
  {
   "cell_type": "code",
   "execution_count": null,
   "id": "9c9005a4",
   "metadata": {},
   "outputs": [],
   "source": [
    "for i in range(9):\n",
    "    print(np.sum(np.abs(np.reshape(b_voltage, (9,-1))[i,:]-1)) - np.sum(np.abs((np.reshape(dn_voltage, (9,-1))[i,:]-1))), np.sum(np.abs(np.reshape(rand_voltage, (9,-1))[i,:]-1)) - np.sum(np.abs(np.reshape(dn_voltage, (9,-1))[i,:]-1)))"
   ]
  },
  {
   "cell_type": "code",
   "execution_count": null,
   "id": "f2518377",
   "metadata": {
    "scrolled": true
   },
   "outputs": [],
   "source": [
    "from matplotlib import pyplot as plt \n",
    "  \n",
    "# x-axis values \n",
    "x = np.arange(50) \n",
    "  \n",
    "# Y-axis values \n",
    "w = np.reshape(rand_voltage, (9,-1))[6,:]\n",
    "y = np.reshape(b_voltage, (9,-1))[6,:]\n",
    "z = np.reshape(dn_voltage, (9,-1))[6,:]\n",
    "print(sum(abs(w-1))/50)\n",
    "print(sum(abs(y-1))/50)\n",
    "print(sum(abs(z-1))/50)\n",
    "# Function to plot scatter \n",
    "plt.plot(x, abs(w-1))\n",
    "plt.plot(x, abs(y-1)) \n",
    "plt.plot(x, abs(z-1))\n",
    "plt.legend(['Randomized', 'RL Agent', 'Baseline'])\n",
    "plt.xlabel('Time (seconds)')\n",
    "plt.ylabel('Bus 7 Voltage (p.u.)')\n",
    "# function to show the plot \n",
    "plt.show()"
   ]
  },
  {
   "cell_type": "code",
   "execution_count": null,
   "id": "1e0da63f",
   "metadata": {},
   "outputs": [],
   "source": [
    "10000/60/60"
   ]
  },
  {
   "cell_type": "code",
   "execution_count": null,
   "id": "75875377",
   "metadata": {},
   "outputs": [],
   "source": [
    "\n",
    "import os\n",
    "env.dymola.cd(os.getcwd())"
   ]
  },
  {
   "cell_type": "code",
   "execution_count": null,
   "id": "5046d809",
   "metadata": {},
   "outputs": [],
   "source": [
    "print(env.dymola.openModel(\"../../OpenIPSL-1.5.0/OpenIPSL/package.mo\"))"
   ]
  },
  {
   "cell_type": "code",
   "execution_count": null,
   "id": "fe1c68ff",
   "metadata": {
    "scrolled": true
   },
   "outputs": [],
   "source": [
    "env.dymola.simulateModel('OpenIPSL.Examples.IEEE9.IEEE_9_Base_Case_OL')"
   ]
  },
  {
   "cell_type": "code",
   "execution_count": null,
   "id": "fba6d7b2",
   "metadata": {},
   "outputs": [],
   "source": [
    "env.dymola.getLastError()"
   ]
  },
  {
   "cell_type": "code",
   "execution_count": null,
   "id": "ab449f22",
   "metadata": {},
   "outputs": [],
   "source": [
    "#env.dymola.close()\n",
    "from dymola.dymola_interface import DymolaInterface\n",
    "env.dymola = DymolaInterface()"
   ]
  },
  {
   "cell_type": "code",
   "execution_count": null,
   "id": "2a9bbba2",
   "metadata": {},
   "outputs": [],
   "source": [
    "from dymola.dymola_interface import DymolaInterface\n",
    "import os\n",
    "#dymola = DymolaInterface()\n",
    "env.dymola.ExecuteCommand(\"Advanced.Define.DAEsolver = true\")\n",
    "\n",
    "# load libraries\n",
    "loaded = []\n",
    "for lib in [\"../../OpenIPSL-1.5.0/OpenIPSL/package.mo\"]: # all paths relative to the cwd\n",
    "    loaded += [env.dymola.openModel(lib, changeDirectory=False)]\n",
    "\n",
    "# if not False in loaded:\n",
    "#     logger.debug(\"Successfully loaded all libraries.\")\n",
    "# else:\n",
    "#     logger.error(\"Dymola could not find all models.\")\n",
    "\n",
    "if not os.path.isdir('temp_dir'):\n",
    "    os.mkdir('temp_dir')\n",
    "    temp_dir = os.path.join(os.getcwd(), \"temp_dir\")\n",
    "    env.dymola.cd('temp_dir')"
   ]
  },
  {
   "cell_type": "code",
   "execution_count": null,
   "id": "e3b973af",
   "metadata": {},
   "outputs": [],
   "source": [
    "env.dymola.cd('temp_dir')"
   ]
  },
  {
   "cell_type": "code",
   "execution_count": null,
   "id": "699b0fa1",
   "metadata": {},
   "outputs": [],
   "source": [
    "import time\n",
    "import concurrent.futures as futures\n",
    "\n",
    "\n",
    "def timeout(timelimit):\n",
    "    def decorator(func):\n",
    "        def decorated(*args, **kwargs):\n",
    "            with futures.ThreadPoolExecutor(max_workers=1) as executor:\n",
    "                future = executor.submit(func, *args, **kwargs)\n",
    "                try:\n",
    "                    result = future.result(timelimit)\n",
    "                except futures.TimeoutError:\n",
    "                    print('Time out!')\n",
    "                    result= None\n",
    "                else:\n",
    "                    print(result)\n",
    "                executor._threads.clear()\n",
    "                futures.thread._threads_queues.clear()\n",
    "                return result\n",
    "        return decorated\n",
    "    return decorator\n",
    "\n",
    "\n",
    "\n",
    "class MyClass:\n",
    "    def __init__(self, x):\n",
    "        self.x = x\n",
    "    \n",
    "    @timeout(2)\n",
    "    def sleeper(self):\n",
    "        print(f'Sleeping for {self.x} seconds')\n",
    "        time.sleep(self.x)\n",
    "        # Real code here.\n",
    "        return 'Done', 'yes'"
   ]
  },
  {
   "cell_type": "code",
   "execution_count": null,
   "id": "bc2b989f",
   "metadata": {},
   "outputs": [],
   "source": []
  }
 ],
 "metadata": {
  "kernelspec": {
   "display_name": "Python [conda env:.conda-myenv] *",
   "language": "python",
   "name": "conda-env-.conda-myenv-py"
  },
  "language_info": {
   "codemirror_mode": {
    "name": "ipython",
    "version": 3
   },
   "file_extension": ".py",
   "mimetype": "text/x-python",
   "name": "python",
   "nbconvert_exporter": "python",
   "pygments_lexer": "ipython3",
   "version": "3.9.2"
  }
 },
 "nbformat": 4,
 "nbformat_minor": 5
}
