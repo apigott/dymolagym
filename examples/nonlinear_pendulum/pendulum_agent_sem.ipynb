{
 "cells": [
  {
   "cell_type": "code",
   "execution_count": null,
   "id": "2ca88112",
   "metadata": {
    "scrolled": false
   },
   "outputs": [],
   "source": [
    "import logging\n",
    "import gym\n",
    "import numpy as np\n",
    "import os\n",
    "import matplotlib.pyplot as plt\n",
    "\n",
    "# add reference libraries here. Current structure will use the relative path from this file\n",
    "libs = [\"NonlinearPendulumTest.mo\"]\n",
    "\n",
    "# check that all the paths to library package.mo files exist\n",
    "# DymolaInterface() also checks this but I've found this warning helpful\n",
    "for lib in libs:\n",
    "    if not os.path.isfile(lib):\n",
    "        print(f\"Cannot find the library {lib}\")\n",
    "\n",
    "mo_name = \"NonlinearPendulumTest\" # name of Modelica model in the Library.Model format\n",
    "env_entry_point = 'examples:PendulumEnvSEM' # Python package location of RL environment\n",
    "\n",
    "time_step = 0.5 # time delta in seconds\n",
    "positive_reward = 1\n",
    "negative_reward = -100 # penalize RL agent for is_done\n",
    "log_level = 0\n",
    "default_action = []\n",
    "\n",
    "# these config values are passed to the model specific environment class\n",
    "# mo_name and libs are passed on to the DymolaBaseEnv class\n",
    "config = {\n",
    "    'mo_name': mo_name,\n",
    "    'libs': libs,\n",
    "    'time_step': time_step,\n",
    "    'positive_reward': positive_reward,\n",
    "    'negative_reward': negative_reward,\n",
    "    'log_level': log_level,\n",
    "    'default_action': default_action,\n",
    "    'method':'Dassl'\n",
    "}\n",
    "\n",
    "# enable the model specific class as an OpenAI gym environment\n",
    "from gym.envs.registration import register\n",
    "env_name = \"PedulumEnv-v0\"\n",
    "\n",
    "register(\n",
    "    id=env_name,\n",
    "    entry_point=env_entry_point,\n",
    "    kwargs=config\n",
    ")\n",
    "\n",
    "env = gym.make(env_name)"
   ]
  },
  {
   "cell_type": "code",
   "execution_count": null,
   "id": "78588ee8",
   "metadata": {
    "scrolled": false
   },
   "outputs": [],
   "source": [
    "args = ['random','not_random']\n",
    "colors = ['orange', 'blue']\n",
    "legend = []\n",
    "for arg in args:\n",
    "    # reset the model \n",
    "    env.reset_dymola()\n",
    "    env.reset()\n",
    "    env.debug_data = {key: [] for key in env.debug_data}\n",
    "    \n",
    "    # see what the model outputs\n",
    "    for timestep in range(5):\n",
    "        if arg == 'random':\n",
    "            action = np.random.uniform(1,2)\n",
    "        else:\n",
    "            action = 1.5\n",
    "        env.step([action])\n",
    "        \n",
    "    c = colors.pop()\n",
    "    plt.plot(env.debug_data['nonlinearPendulum.my_time'], env.debug_data['nonlinearPendulum.theta'], linestyle='-', color=c)\n",
    "    plt.plot(env.debug_data['nonlinearPendulum.my_time'], env.debug_data['nonlinearPendulum.omega'], linestyle='--', color=c)\n",
    "    legend += [f\"{arg}, theta\", f\"{arg}, omega\"]\n",
    "plt.legend(legend)"
   ]
  },
  {
   "cell_type": "code",
   "execution_count": null,
   "id": "f6170f65",
   "metadata": {},
   "outputs": [],
   "source": [
    "args = ['random','not_random']\n",
    "colors = ['orange', 'blue']\n",
    "legend = []\n",
    "for arg in args:\n",
    "    # reset the model \n",
    "    env.reset_dymola()\n",
    "    env.reset()\n",
    "    env.debug_data = {key: [] for key in env.debug_data}\n",
    "    \n",
    "    # see what the model outputs\n",
    "    for timestep in range(5):\n",
    "        if arg == 'random':\n",
    "            action = np.random.uniform(1,2)\n",
    "        else:\n",
    "            action = 1.5\n",
    "        \n",
    "        env.dymola.importInitialResult('dsres.mat', atTime=env.start)\n",
    "        res = env.dymola.simulateExtendedModel(env.model_name, startTime=env.start, stopTime=env.stop, initialNames=env.model_input_names, initialValues=[action], finalNames=env.model_output_names)\n",
    "        env.get_state(res) # adds intermittent values to the debug_data dictionary\n",
    "        env.start += env.tau\n",
    "        env.stop += env.tau\n",
    "    c = colors.pop()\n",
    "    plt.plot(env.debug_data['nonlinearPendulum.my_time'], env.debug_data['nonlinearPendulum.theta'], linestyle='-', color=c)\n",
    "    plt.plot(env.debug_data['nonlinearPendulum.my_time'], env.debug_data['nonlinearPendulum.omega'], linestyle='--', color=c)\n",
    "    legend += [f\"{arg}, theta\", f\"{arg}, omega\"]\n",
    "plt.legend(legend)"
   ]
  },
  {
   "cell_type": "code",
   "execution_count": null,
   "id": "73650511",
   "metadata": {
    "scrolled": true
   },
   "outputs": [],
   "source": [
    "env.dymola.close()"
   ]
  },
  {
   "cell_type": "code",
   "execution_count": null,
   "id": "2321b275",
   "metadata": {},
   "outputs": [],
   "source": []
  }
 ],
 "metadata": {
  "kernelspec": {
   "display_name": "Python [conda env:.conda-myenv] *",
   "language": "python",
   "name": "conda-env-.conda-myenv-py"
  },
  "language_info": {
   "codemirror_mode": {
    "name": "ipython",
    "version": 3
   },
   "file_extension": ".py",
   "mimetype": "text/x-python",
   "name": "python",
   "nbconvert_exporter": "python",
   "pygments_lexer": "ipython3",
   "version": "3.9.2"
  }
 },
 "nbformat": 4,
 "nbformat_minor": 5
}
