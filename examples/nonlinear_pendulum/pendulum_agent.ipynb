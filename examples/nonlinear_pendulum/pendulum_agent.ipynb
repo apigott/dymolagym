{
 "cells": [
  {
   "cell_type": "code",
   "execution_count": 1,
   "id": "2ca88112",
   "metadata": {
    "scrolled": false
   },
   "outputs": [
    {
     "name": "stdout",
     "output_type": "stream",
     "text": [
      "resetting dymola...\n",
      "dymola has been reset\n"
     ]
    },
    {
     "ename": "AttributeError",
     "evalue": "'PendulumEnv' object has no attribute 'model_initial_names'",
     "output_type": "error",
     "traceback": [
      "\u001b[1;31m---------------------------------------------------------------------------\u001b[0m",
      "\u001b[1;31mAttributeError\u001b[0m                            Traceback (most recent call last)",
      "\u001b[1;32m<ipython-input-1-fe0a1a716430>\u001b[0m in \u001b[0;36m<module>\u001b[1;34m\u001b[0m\n\u001b[0;32m     46\u001b[0m )\n\u001b[0;32m     47\u001b[0m \u001b[1;33m\u001b[0m\u001b[0m\n\u001b[1;32m---> 48\u001b[1;33m \u001b[0menv\u001b[0m \u001b[1;33m=\u001b[0m \u001b[0mgym\u001b[0m\u001b[1;33m.\u001b[0m\u001b[0mmake\u001b[0m\u001b[1;33m(\u001b[0m\u001b[0menv_name\u001b[0m\u001b[1;33m)\u001b[0m\u001b[1;33m\u001b[0m\u001b[1;33m\u001b[0m\u001b[0m\n\u001b[0m",
      "\u001b[1;32m~\\.conda\\envs\\myenv\\lib\\site-packages\\gym\\envs\\registration.py\u001b[0m in \u001b[0;36mmake\u001b[1;34m(id, **kwargs)\u001b[0m\n\u001b[0;32m    143\u001b[0m \u001b[1;33m\u001b[0m\u001b[0m\n\u001b[0;32m    144\u001b[0m \u001b[1;32mdef\u001b[0m \u001b[0mmake\u001b[0m\u001b[1;33m(\u001b[0m\u001b[0mid\u001b[0m\u001b[1;33m,\u001b[0m \u001b[1;33m**\u001b[0m\u001b[0mkwargs\u001b[0m\u001b[1;33m)\u001b[0m\u001b[1;33m:\u001b[0m\u001b[1;33m\u001b[0m\u001b[1;33m\u001b[0m\u001b[0m\n\u001b[1;32m--> 145\u001b[1;33m     \u001b[1;32mreturn\u001b[0m \u001b[0mregistry\u001b[0m\u001b[1;33m.\u001b[0m\u001b[0mmake\u001b[0m\u001b[1;33m(\u001b[0m\u001b[0mid\u001b[0m\u001b[1;33m,\u001b[0m \u001b[1;33m**\u001b[0m\u001b[0mkwargs\u001b[0m\u001b[1;33m)\u001b[0m\u001b[1;33m\u001b[0m\u001b[1;33m\u001b[0m\u001b[0m\n\u001b[0m\u001b[0;32m    146\u001b[0m \u001b[1;33m\u001b[0m\u001b[0m\n\u001b[0;32m    147\u001b[0m \u001b[1;32mdef\u001b[0m \u001b[0mspec\u001b[0m\u001b[1;33m(\u001b[0m\u001b[0mid\u001b[0m\u001b[1;33m)\u001b[0m\u001b[1;33m:\u001b[0m\u001b[1;33m\u001b[0m\u001b[1;33m\u001b[0m\u001b[0m\n",
      "\u001b[1;32m~\\.conda\\envs\\myenv\\lib\\site-packages\\gym\\envs\\registration.py\u001b[0m in \u001b[0;36mmake\u001b[1;34m(self, path, **kwargs)\u001b[0m\n\u001b[0;32m     88\u001b[0m             \u001b[0mlogger\u001b[0m\u001b[1;33m.\u001b[0m\u001b[0minfo\u001b[0m\u001b[1;33m(\u001b[0m\u001b[1;34m'Making new env: %s'\u001b[0m\u001b[1;33m,\u001b[0m \u001b[0mpath\u001b[0m\u001b[1;33m)\u001b[0m\u001b[1;33m\u001b[0m\u001b[1;33m\u001b[0m\u001b[0m\n\u001b[0;32m     89\u001b[0m         \u001b[0mspec\u001b[0m \u001b[1;33m=\u001b[0m \u001b[0mself\u001b[0m\u001b[1;33m.\u001b[0m\u001b[0mspec\u001b[0m\u001b[1;33m(\u001b[0m\u001b[0mpath\u001b[0m\u001b[1;33m)\u001b[0m\u001b[1;33m\u001b[0m\u001b[1;33m\u001b[0m\u001b[0m\n\u001b[1;32m---> 90\u001b[1;33m         \u001b[0menv\u001b[0m \u001b[1;33m=\u001b[0m \u001b[0mspec\u001b[0m\u001b[1;33m.\u001b[0m\u001b[0mmake\u001b[0m\u001b[1;33m(\u001b[0m\u001b[1;33m**\u001b[0m\u001b[0mkwargs\u001b[0m\u001b[1;33m)\u001b[0m\u001b[1;33m\u001b[0m\u001b[1;33m\u001b[0m\u001b[0m\n\u001b[0m\u001b[0;32m     91\u001b[0m         \u001b[1;31m# We used to have people override _reset/_step rather than\u001b[0m\u001b[1;33m\u001b[0m\u001b[1;33m\u001b[0m\u001b[1;33m\u001b[0m\u001b[0m\n\u001b[0;32m     92\u001b[0m         \u001b[1;31m# reset/step. Set _gym_disable_underscore_compat = True on\u001b[0m\u001b[1;33m\u001b[0m\u001b[1;33m\u001b[0m\u001b[1;33m\u001b[0m\u001b[0m\n",
      "\u001b[1;32m~\\.conda\\envs\\myenv\\lib\\site-packages\\gym\\envs\\registration.py\u001b[0m in \u001b[0;36mmake\u001b[1;34m(self, **kwargs)\u001b[0m\n\u001b[0;32m     58\u001b[0m         \u001b[1;32melse\u001b[0m\u001b[1;33m:\u001b[0m\u001b[1;33m\u001b[0m\u001b[1;33m\u001b[0m\u001b[0m\n\u001b[0;32m     59\u001b[0m             \u001b[0mcls\u001b[0m \u001b[1;33m=\u001b[0m \u001b[0mload\u001b[0m\u001b[1;33m(\u001b[0m\u001b[0mself\u001b[0m\u001b[1;33m.\u001b[0m\u001b[0mentry_point\u001b[0m\u001b[1;33m)\u001b[0m\u001b[1;33m\u001b[0m\u001b[1;33m\u001b[0m\u001b[0m\n\u001b[1;32m---> 60\u001b[1;33m             \u001b[0menv\u001b[0m \u001b[1;33m=\u001b[0m \u001b[0mcls\u001b[0m\u001b[1;33m(\u001b[0m\u001b[1;33m**\u001b[0m\u001b[0m_kwargs\u001b[0m\u001b[1;33m)\u001b[0m\u001b[1;33m\u001b[0m\u001b[1;33m\u001b[0m\u001b[0m\n\u001b[0m\u001b[0;32m     61\u001b[0m \u001b[1;33m\u001b[0m\u001b[0m\n\u001b[0;32m     62\u001b[0m         \u001b[1;31m# Make the environment aware of which spec it came from.\u001b[0m\u001b[1;33m\u001b[0m\u001b[1;33m\u001b[0m\u001b[1;33m\u001b[0m\u001b[0m\n",
      "\u001b[1;32mc:\\users\\aisling\\documents\\modelicagym\\examples\\nonlinear_pendulum\\pendulum_env.py\u001b[0m in \u001b[0;36m__init__\u001b[1;34m(self, mo_name, libs, default_action, time_step, positive_reward, negative_reward, log_level, method)\u001b[0m\n\u001b[0;32m     65\u001b[0m         \u001b[0mself\u001b[0m\u001b[1;33m.\u001b[0m\u001b[0mcached_values\u001b[0m \u001b[1;33m=\u001b[0m \u001b[1;32mNone\u001b[0m\u001b[1;33m\u001b[0m\u001b[1;33m\u001b[0m\u001b[0m\n\u001b[0;32m     66\u001b[0m         \u001b[1;31m# change this to unpack the dictionary __init__(**config), so that some parameters can have default values\u001b[0m\u001b[1;33m\u001b[0m\u001b[1;33m\u001b[0m\u001b[1;33m\u001b[0m\u001b[0m\n\u001b[1;32m---> 67\u001b[1;33m         \u001b[0msuper\u001b[0m\u001b[1;33m(\u001b[0m\u001b[1;33m)\u001b[0m\u001b[1;33m.\u001b[0m\u001b[0m__init__\u001b[0m\u001b[1;33m(\u001b[0m\u001b[0mmo_name\u001b[0m\u001b[1;33m,\u001b[0m \u001b[0mlibs\u001b[0m\u001b[1;33m,\u001b[0m \u001b[0mconfig\u001b[0m\u001b[1;33m,\u001b[0m \u001b[0mlog_level\u001b[0m\u001b[1;33m)\u001b[0m\u001b[1;33m\u001b[0m\u001b[1;33m\u001b[0m\u001b[0m\n\u001b[0m\u001b[0;32m     68\u001b[0m \u001b[1;33m\u001b[0m\u001b[0m\n\u001b[0;32m     69\u001b[0m     \u001b[1;32mdef\u001b[0m \u001b[0mpostprocess_state\u001b[0m\u001b[1;33m(\u001b[0m\u001b[0mself\u001b[0m\u001b[1;33m,\u001b[0m \u001b[0mstate\u001b[0m\u001b[1;33m)\u001b[0m\u001b[1;33m:\u001b[0m\u001b[1;33m\u001b[0m\u001b[1;33m\u001b[0m\u001b[0m\n",
      "\u001b[1;32mc:\\users\\aisling\\documents\\modelicagym\\modelicagym\\environment\\dymola_base_env_simmodel.py\u001b[0m in \u001b[0;36m__init__\u001b[1;34m(self, mo_name, libs, config, log_level)\u001b[0m\n\u001b[0;32m     84\u001b[0m         \u001b[0mself\u001b[0m\u001b[1;33m.\u001b[0m\u001b[0mfixedstepsize\u001b[0m \u001b[1;33m=\u001b[0m \u001b[1;32mNone\u001b[0m\u001b[1;33m\u001b[0m\u001b[1;33m\u001b[0m\u001b[0m\n\u001b[0;32m     85\u001b[0m         \u001b[0mself\u001b[0m\u001b[1;33m.\u001b[0m\u001b[0mdebug_data\u001b[0m \u001b[1;33m=\u001b[0m \u001b[1;33m{\u001b[0m\u001b[0mname\u001b[0m\u001b[1;33m:\u001b[0m\u001b[1;33m[\u001b[0m\u001b[1;33m]\u001b[0m \u001b[1;32mfor\u001b[0m \u001b[0mname\u001b[0m \u001b[1;32min\u001b[0m \u001b[0mself\u001b[0m\u001b[1;33m.\u001b[0m\u001b[0mmodel_output_names\u001b[0m\u001b[1;33m}\u001b[0m\u001b[1;33m\u001b[0m\u001b[1;33m\u001b[0m\u001b[0m\n\u001b[1;32m---> 86\u001b[1;33m         \u001b[0mself\u001b[0m\u001b[1;33m.\u001b[0m\u001b[0minitial_data\u001b[0m \u001b[1;33m=\u001b[0m \u001b[1;33m{\u001b[0m\u001b[0mk\u001b[0m\u001b[1;33m:\u001b[0m\u001b[1;33m{\u001b[0m\u001b[1;34m'name'\u001b[0m\u001b[1;33m:\u001b[0m\u001b[0mv\u001b[0m\u001b[1;33m,\u001b[0m \u001b[1;34m'value'\u001b[0m\u001b[1;33m:\u001b[0m\u001b[1;32mNone\u001b[0m\u001b[1;33m}\u001b[0m \u001b[1;32mfor\u001b[0m \u001b[0mk\u001b[0m\u001b[1;33m,\u001b[0m\u001b[0mv\u001b[0m \u001b[1;32min\u001b[0m \u001b[0mself\u001b[0m\u001b[1;33m.\u001b[0m\u001b[0mmodel_initial_names\u001b[0m\u001b[1;33m.\u001b[0m\u001b[0mitems\u001b[0m\u001b[1;33m(\u001b[0m\u001b[1;33m)\u001b[0m\u001b[1;33m}\u001b[0m\u001b[1;33m\u001b[0m\u001b[1;33m\u001b[0m\u001b[0m\n\u001b[0m\u001b[0;32m     87\u001b[0m         \u001b[1;31m# initialize the model time and state\u001b[0m\u001b[1;33m\u001b[0m\u001b[1;33m\u001b[0m\u001b[1;33m\u001b[0m\u001b[0m\n\u001b[0;32m     88\u001b[0m         \u001b[0mself\u001b[0m\u001b[1;33m.\u001b[0m\u001b[0mstart\u001b[0m \u001b[1;33m=\u001b[0m \u001b[1;36m0\u001b[0m\u001b[1;33m\u001b[0m\u001b[1;33m\u001b[0m\u001b[0m\n",
      "\u001b[1;31mAttributeError\u001b[0m: 'PendulumEnv' object has no attribute 'model_initial_names'"
     ]
    }
   ],
   "source": [
    "import logging\n",
    "import gym\n",
    "import numpy as np\n",
    "import os\n",
    "import matplotlib.pyplot as plt\n",
    "\n",
    "# add reference libraries here. Current structure will use the relative path from this file\n",
    "libs = [\"NonlinearPendulum.mo\"]\n",
    "\n",
    "# check that all the paths to library package.mo files exist\n",
    "# DymolaInterface() also checks this but I've found this warning helpful\n",
    "for lib in libs:\n",
    "    if not os.path.isfile(lib):\n",
    "        print(f\"Cannot find the library {lib}\")\n",
    "\n",
    "mo_name = \"NonlinearPendulum\" # name of Modelica model in the Library.Model format\n",
    "env_entry_point = 'examples:PendulumEnv' # Python package location of RL environment\n",
    "\n",
    "time_step = 0.5 # time delta in seconds\n",
    "positive_reward = 1\n",
    "negative_reward = -100 # penalize RL agent for is_done\n",
    "log_level = 0\n",
    "default_action = []\n",
    "\n",
    "# these config values are passed to the model specific environment class\n",
    "# mo_name and libs are passed on to the DymolaBaseEnv class\n",
    "config = {\n",
    "    'mo_name': mo_name,\n",
    "    'libs': libs,\n",
    "    'time_step': time_step,\n",
    "    'positive_reward': positive_reward,\n",
    "    'negative_reward': negative_reward,\n",
    "    'log_level': log_level,\n",
    "    'default_action': default_action,\n",
    "    'method':'Dassl'\n",
    "}\n",
    "\n",
    "# enable the model specific class as an OpenAI gym environment\n",
    "from gym.envs.registration import register\n",
    "env_name = \"PedulumEnv-v0\"\n",
    "\n",
    "register(\n",
    "    id=env_name,\n",
    "    entry_point=env_entry_point,\n",
    "    kwargs=config\n",
    ")\n",
    "\n",
    "env = gym.make(env_name)"
   ]
  },
  {
   "cell_type": "code",
   "execution_count": null,
   "id": "78588ee8",
   "metadata": {
    "scrolled": false
   },
   "outputs": [],
   "source": [
    "# time is incremented forward but after each step (0.5 seconds) the model seems to be reinitialized\n",
    "\n",
    "args = ['random','not_random']\n",
    "colors = ['orange', 'blue']\n",
    "legend = []\n",
    "for arg in args:\n",
    "    # reset the model \n",
    "    env.reset_dymola()\n",
    "    env.reset()\n",
    "    env.debug_data = {key: [] for key in env.debug_data}\n",
    "    \n",
    "    # see what the model outputs\n",
    "    for timestep in range(5):\n",
    "        if arg == 'random':\n",
    "            action = np.random.uniform(1,2)\n",
    "        else:\n",
    "            action = 1.5\n",
    "        env.step([action])\n",
    "    \n",
    "    c = colors.pop()\n",
    "    plt.plot(env.debug_data['my_time'], env.debug_data['theta'], linestyle='-', color=c)\n",
    "    plt.plot(env.debug_data['my_time'], env.debug_data['omega'], linestyle='--', color=c)\n",
    "    legend += [f\"{arg}, theta\", f\"{arg}, omega\"]\n",
    "plt.legend(legend)"
   ]
  },
  {
   "cell_type": "code",
   "execution_count": null,
   "id": "36951cf0",
   "metadata": {
    "scrolled": false
   },
   "outputs": [],
   "source": [
    "# this block is pretty much identical to the prior one, it just exposes the methods of the DymolaGym class.\n",
    "\n",
    "import DyMat\n",
    "\n",
    "args = ['random','not_random']\n",
    "colors = ['orange', 'blue']\n",
    "for arg in args:\n",
    "    # reset the model \n",
    "    env.reset_dymola()\n",
    "    env.reset()\n",
    "    env.debug_data = {key: [] for key in env.debug_data}\n",
    "    \n",
    "    # see what the model outputs\n",
    "    for timestep in range(5):\n",
    "        if arg == 'random':\n",
    "            action = np.random.uniform(1,2)\n",
    "            print(action)\n",
    "        else:\n",
    "            action = 1.5\n",
    "            \n",
    "        # the contents of step() without some error handling warnings, etc.\n",
    "        # step() --> do_simulation()\n",
    "        env.dymola.importInitial()\n",
    "        model_with_constructors = env.model_name + f'(u1={action})'\n",
    "        env.dymola.simulateModel(model_with_constructors, startTime=env.start, stopTime=env.stop)\n",
    "        env.start += env.tau\n",
    "        env.stop += env.tau\n",
    "        \n",
    "        # step() --> get_state()\n",
    "        state = []\n",
    "        data = DyMat.DyMatFile('temp_dir/dsres.mat')\n",
    "        for name in env.model_output_names:\n",
    "            state += [data[name][-1]]\n",
    "            env.debug_data[name] += data[name].tolist()\n",
    "    \n",
    "    c = colors.pop()\n",
    "    plt.plot(env.debug_data['my_time'], env.debug_data['theta'], linestyle='-', color=c)\n",
    "    plt.plot(env.debug_data['my_time'], env.debug_data['omega'], linestyle='--', color=c)\n",
    "    legend += [f\"{arg}, theta\", f\"{arg}, omega\"]\n",
    "plt.legend(legend)"
   ]
  },
  {
   "cell_type": "code",
   "execution_count": null,
   "id": "dd91a3c7",
   "metadata": {},
   "outputs": [],
   "source": [
    "# by initializing each variable in the initial equation section, we get a continuous simulation\n",
    "\n",
    "args = ['random','not_random']\n",
    "colors = ['orange', 'blue']\n",
    "for arg in args:\n",
    "    # reset the model \n",
    "    env.reset_dymola()\n",
    "    env.reset()\n",
    "    env.debug_data = {key: [] for key in env.debug_data}\n",
    "    initial_data = {'omega0':{'name':'omega','value':20}, 'theta0':{'name':'theta','value':3}}\n",
    "    # see what the model outputs\n",
    "    for timestep in range(5):\n",
    "        if arg == 'random':\n",
    "            action = np.random.uniform(1,2)\n",
    "            print(action)\n",
    "        else:\n",
    "            action = 1.5\n",
    "            \n",
    "        # the contents of step() without some error handling warnings, etc.\n",
    "        # step() --> do_simulation()\n",
    "        env.dymola.importInitial()\n",
    "        model_with_constructors = env.model_name + f'(u1={action}'\n",
    "        for name,v in initial_data.items():\n",
    "            model_with_constructors += f\",{name}={v['value']}\"\n",
    "        model_with_constructors += ')'\n",
    "        env.dymola.simulateModel(model_with_constructors, startTime=env.start, stopTime=env.stop)\n",
    "        env.start += env.tau\n",
    "        env.stop += env.tau\n",
    "        \n",
    "        # step() --> get_state()\n",
    "        state = []\n",
    "        data = DyMat.DyMatFile('temp_dir/dsres.mat')\n",
    "        for name in env.model_output_names:\n",
    "            state += [data[name][-1]]\n",
    "            env.debug_data[name] += data[name].tolist()\n",
    "        \n",
    "        for name,v in initial_data.items():\n",
    "            v['value'] = data[v['name']][-1]\n",
    "    c = colors.pop()\n",
    "    plt.plot(env.debug_data['my_time'], env.debug_data['theta'], linestyle='-', color=c)\n",
    "    plt.plot(env.debug_data['my_time'], env.debug_data['omega'], linestyle='--', color=c)\n",
    "    legend += [f\"{arg}, theta\", f\"{arg}, omega\"]\n",
    "plt.legend(legend)"
   ]
  },
  {
   "cell_type": "code",
   "execution_count": null,
   "id": "18dc7ab4",
   "metadata": {
    "scrolled": true
   },
   "outputs": [],
   "source": [
    "env.dymola.close()"
   ]
  },
  {
   "cell_type": "code",
   "execution_count": null,
   "id": "5ca34c76",
   "metadata": {},
   "outputs": [],
   "source": []
  }
 ],
 "metadata": {
  "kernelspec": {
   "display_name": "Python [conda env:.conda-myenv] *",
   "language": "python",
   "name": "conda-env-.conda-myenv-py"
  },
  "language_info": {
   "codemirror_mode": {
    "name": "ipython",
    "version": 3
   },
   "file_extension": ".py",
   "mimetype": "text/x-python",
   "name": "python",
   "nbconvert_exporter": "python",
   "pygments_lexer": "ipython3",
   "version": "3.9.2"
  }
 },
 "nbformat": 4,
 "nbformat_minor": 5
}
