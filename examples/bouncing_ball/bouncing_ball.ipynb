{
 "cells": [
  {
   "cell_type": "code",
   "execution_count": null,
   "id": "d1f3e12e",
   "metadata": {},
   "outputs": [],
   "source": [
    "import logging\n",
    "import gym\n",
    "import numpy as np\n",
    "import os\n",
    "import matplotlib.pyplot as plt\n",
    "\n",
    "# add reference libraries here. Current structure will use the relative path from this file\n",
    "libs = [\"BouncingBall.mo\"]\n",
    "\n",
    "# check that all the paths to library package.mo files exist\n",
    "# DymolaInterface() also checks this but I've found this warning helpful\n",
    "for lib in libs:\n",
    "    if not os.path.isfile(lib):\n",
    "        print(f\"Cannot find the library {lib}\")\n",
    "\n",
    "mo_name = \"BouncingBall\" # name of Modelica model in the Library.Model format\n",
    "env_entry_point = 'examples:BouncingBallEnv' # Python package location of RL environment\n",
    "\n",
    "time_step = 0.25 # time delta in seconds\n",
    "positive_reward = 1\n",
    "negative_reward = -100 # penalize RL agent for is_done\n",
    "log_level = 0\n",
    "default_action = []\n",
    "\n",
    "# these config values are passed to the model specific environment class\n",
    "# mo_name and libs are passed on to the DymolaBaseEnv class\n",
    "config = {\n",
    "    'mo_name': mo_name,\n",
    "    'libs': libs,\n",
    "    'time_step': time_step,\n",
    "    'positive_reward': positive_reward,\n",
    "    'negative_reward': negative_reward,\n",
    "    'log_level': log_level,\n",
    "    'default_action': default_action,\n",
    "    'method':'DASSL'\n",
    "}\n",
    "\n",
    "# enable the model specific class as an OpenAI gym environment\n",
    "from gym.envs.registration import register\n",
    "env_name = \"BouncingBallEnv-v0\"\n",
    "\n",
    "register(\n",
    "    id=env_name,\n",
    "    entry_point=env_entry_point,\n",
    "    kwargs=config\n",
    ")\n",
    "\n",
    "env = gym.make(env_name)"
   ]
  },
  {
   "cell_type": "code",
   "execution_count": null,
   "id": "3277cc2a",
   "metadata": {},
   "outputs": [],
   "source": [
    "height_tracker = []\n",
    "for _ in range(12):\n",
    "    obs, reward, done, info = env.step([])\n",
    "    obs += [env.start]\n",
    "    height_tracker += obs\n",
    "\n",
    "data = np.array(height_tracker)\n",
    "plt.figure(figsize=(20,15))\n",
    "plt.plot(data[1::2],data[::2])\n",
    "plt.scatter(data[1::2],data[::2])"
   ]
  },
  {
   "cell_type": "code",
   "execution_count": null,
   "id": "ec066886",
   "metadata": {},
   "outputs": [],
   "source": [
    "env.tau = 0.1\n",
    "env.reset_dymola()\n",
    "env.reset()\n",
    "\n",
    "height_tracker = []\n",
    "for _ in range(30):\n",
    "    obs, reward, done, info = env.step([])\n",
    "    obs += [env.start]\n",
    "    height_tracker += obs\n",
    "    \n",
    "data = np.array(height_tracker)\n",
    "plt.figure(figsize=(20,15))\n",
    "plt.plot(data[1::2],data[::2])\n",
    "plt.scatter(data[1::2],data[::2])"
   ]
  },
  {
   "cell_type": "code",
   "execution_count": null,
   "id": "2df884ae",
   "metadata": {},
   "outputs": [],
   "source": [
    "env.tau = 0.05\n",
    "env.reset_dymola()\n",
    "env.reset()\n",
    "\n",
    "height_tracker = []\n",
    "for _ in range(60):\n",
    "    obs, reward, done, info = env.step([])\n",
    "    obs += [env.start]\n",
    "    height_tracker += obs\n",
    "    \n",
    "data = np.array(height_tracker)\n",
    "plt.figure(figsize=(20,15))\n",
    "plt.plot(data[1::2],data[::2])\n",
    "plt.scatter(data[1::2],data[::2])"
   ]
  },
  {
   "cell_type": "code",
   "execution_count": null,
   "id": "b426cb64",
   "metadata": {},
   "outputs": [],
   "source": [
    "env.dymola.getLastError()"
   ]
  },
  {
   "cell_type": "code",
   "execution_count": null,
   "id": "804b56dd",
   "metadata": {},
   "outputs": [],
   "source": []
  }
 ],
 "metadata": {
  "kernelspec": {
   "display_name": "Python [conda env:.conda-myenv] *",
   "language": "python",
   "name": "conda-env-.conda-myenv-py"
  },
  "language_info": {
   "codemirror_mode": {
    "name": "ipython",
    "version": 3
   },
   "file_extension": ".py",
   "mimetype": "text/x-python",
   "name": "python",
   "nbconvert_exporter": "python",
   "pygments_lexer": "ipython3",
   "version": "3.9.2"
  }
 },
 "nbformat": 4,
 "nbformat_minor": 5
}
