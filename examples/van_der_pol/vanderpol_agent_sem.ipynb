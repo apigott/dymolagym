{
 "cells": [
  {
   "cell_type": "code",
   "execution_count": 1,
   "id": "d1f3e12e",
   "metadata": {},
   "outputs": [],
   "source": [
    "import logging\n",
    "import gym\n",
    "import numpy as np\n",
    "import os\n",
    "import matplotlib.pyplot as plt\n",
    "\n",
    "# add reference libraries here. Current structure will use the relative path from this file\n",
    "libs = [\"VanDerPolTest.mo\",\n",
    "       \"../../../OpenIPSL-1.5.0/OpenIPSL/package.mo\",\n",
    "       \"../../../OpenIPSL-1.5.0/ApplicationExamples/IEEE9/package.mo\"]\n",
    "\n",
    "# check that all the paths to library package.mo files exist\n",
    "# DymolaInterface() also checks this but I've found this warning helpful\n",
    "for lib in libs:\n",
    "    if not os.path.isfile(lib):\n",
    "        print(f\"Cannot find the library {lib}\")\n",
    "\n",
    "mo_name = \"VanDerPolTest\" # name of Modelica model in the Library.Model format\n",
    "env_entry_point = 'examples:VanDerPolEnv' # Python package location of RL environment\n",
    "\n",
    "time_step = 0.5 # time delta in seconds\n",
    "positive_reward = 1\n",
    "negative_reward = -100 # penalize RL agent for is_done\n",
    "log_level = 0\n",
    "default_action = [2,3]\n",
    "\n",
    "# these config values are passed to the model specific environment class\n",
    "# mo_name and libs are passed on to the DymolaBaseEnv class\n",
    "config = {\n",
    "    'mo_name': mo_name,\n",
    "    'libs': libs,\n",
    "    'time_step': time_step,\n",
    "    'positive_reward': positive_reward,\n",
    "    'negative_reward': negative_reward,\n",
    "    'log_level': log_level,\n",
    "    'default_action': default_action,\n",
    "    'method':'Dassl'\n",
    "}\n",
    "\n",
    "# enable the model specific class as an OpenAI gym environment\n",
    "from gym.envs.registration import register\n",
    "env_name = \"VanDerPolEnv-v0\"\n",
    "\n",
    "register(\n",
    "    id=env_name,\n",
    "    entry_point=env_entry_point,\n",
    "    kwargs=config\n",
    ")"
   ]
  },
  {
   "cell_type": "code",
   "execution_count": 2,
   "id": "2ca88112",
   "metadata": {
    "scrolled": false
   },
   "outputs": [
    {
     "name": "stdout",
     "output_type": "stream",
     "text": [
      "resetting dymola...\n",
      "dymola has been reset\n",
      "the model will be reset\n",
      "the model has been reset\n"
     ]
    },
    {
     "name": "stderr",
     "output_type": "stream",
     "text": [
      "C:\\Users\\Aisling\\.conda\\envs\\myenv\\lib\\site-packages\\gym\\logger.py:30: UserWarning: \u001b[33mWARN: Box bound precision lowered by casting to float32\u001b[0m\n",
      "  warnings.warn(colorize('%s: %s'%('WARN', msg % args), 'yellow'))\n"
     ]
    }
   ],
   "source": [
    "env = gym.make(env_name)"
   ]
  },
  {
   "cell_type": "code",
   "execution_count": 3,
   "id": "78588ee8",
   "metadata": {
    "scrolled": false
   },
   "outputs": [
    {
     "name": "stdout",
     "output_type": "stream",
     "text": [
      "resetting dymola...\n",
      "dymola has been reset\n",
      "the model will be reset\n",
      "the model has been reset\n"
     ]
    },
    {
     "data": {
      "text/plain": [
       "<matplotlib.legend.Legend at 0x27ef7fe0df0>"
      ]
     },
     "execution_count": 3,
     "metadata": {},
     "output_type": "execute_result"
    },
    {
     "data": {
      "image/png": "[encoded data removed]",
      "text/plain": [
       "<Figure size 432x288 with 1 Axes>"
      ]
     },
     "metadata": {
      "needs_background": "light"
     },
     "output_type": "display_data"
    }
   ],
   "source": [
    "args = ['random']#,'not_random']\n",
    "colors = ['orange', 'blue']\n",
    "legend = []\n",
    "for arg in args:\n",
    "    # reset the model \n",
    "    env.reset_dymola()\n",
    "    env.reset()\n",
    "    env.debug_data = {key: [] for key in env.debug_data}\n",
    "    \n",
    "    # see what the model outputs\n",
    "    for timestep in range(5):\n",
    "        if arg == 'random':\n",
    "            action = [np.random.uniform(0,4),np.random.uniform(0,4)]\n",
    "        else:\n",
    "            action = 2\n",
    "        env.step(action)\n",
    "    \n",
    "    c = colors.pop()\n",
    "    plt.plot(env.debug_data['vanderpol.my_time'], env.debug_data['vanderpol.x1'], linestyle='-', color=c)\n",
    "    plt.plot(env.debug_data['vanderpol.my_time'], env.debug_data['vanderpol.x2'], linestyle='--', color=c)\n",
    "    plt.plot(env.debug_data['action.y'], linestyle='-.', color=c)\n",
    "    legend += [f\"{arg}, x1\", f\"{arg}, x2\"]\n",
    "plt.legend(legend)"
   ]
  },
  {
   "cell_type": "code",
   "execution_count": 4,
   "id": "dadb4ca8",
   "metadata": {},
   "outputs": [
    {
     "data": {
      "text/plain": [
       "[<matplotlib.lines.Line2D at 0x27ef80c8640>]"
      ]
     },
     "execution_count": 4,
     "metadata": {},
     "output_type": "execute_result"
    },
    {
     "data": {
      "image/png": "[encoded data removed]",
      "text/plain": [
       "<Figure size 432x288 with 1 Axes>"
      ]
     },
     "metadata": {
      "needs_background": "light"
     },
     "output_type": "display_data"
    }
   ],
   "source": [
    "plt.plot(env.debug_data['vanderpol.G2.add.y'])\n",
    "plt.plot(env.debug_data['vanderpol.G3.add.y'])"
   ]
  },
  {
   "cell_type": "code",
   "execution_count": 5,
   "id": "55fd8781",
   "metadata": {},
   "outputs": [],
   "source": [
    "env.close()"
   ]
  },
  {
   "cell_type": "code",
   "execution_count": null,
   "id": "04d01e45",
   "metadata": {},
   "outputs": [],
   "source": []
  }
 ],
 "metadata": {
  "kernelspec": {
   "display_name": "Python [conda env:.conda-myenv] *",
   "language": "python",
   "name": "conda-env-.conda-myenv-py"
  },
  "language_info": {
   "codemirror_mode": {
    "name": "ipython",
    "version": 3
   },
   "file_extension": ".py",
   "mimetype": "text/x-python",
   "name": "python",
   "nbconvert_exporter": "python",
   "pygments_lexer": "ipython3",
   "version": "3.9.2"
  }
 },
 "nbformat": 4,
 "nbformat_minor": 5
}
