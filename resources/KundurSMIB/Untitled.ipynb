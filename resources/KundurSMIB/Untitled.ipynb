{
 "cells": [
  {
   "cell_type": "code",
   "execution_count": 1,
   "id": "a2002eeb",
   "metadata": {},
   "outputs": [],
   "source": [
    "from dymola.dymola_interface import DymolaInterface"
   ]
  },
  {
   "cell_type": "code",
   "execution_count": 2,
   "id": "7ed2b180",
   "metadata": {},
   "outputs": [
    {
     "data": {
      "text/plain": [
       "True"
      ]
     },
     "execution_count": 2,
     "metadata": {},
     "output_type": "execute_result"
    }
   ],
   "source": [
    "dym = DymolaInterface()\n",
    "dym.openModel('package.mo')\n",
    "dym.openModel('../../OpenIPSL/package.mo')"
   ]
  },
  {
   "cell_type": "code",
   "execution_count": 6,
   "id": "b214faaa",
   "metadata": {
    "scrolled": true
   },
   "outputs": [
    {
     "data": {
      "text/plain": [
       "True"
      ]
     },
     "execution_count": 6,
     "metadata": {},
     "output_type": "execute_result"
    }
   ],
   "source": [
    "dym.simulateModel('KundurSMIB.SMIB')"
   ]
  },
  {
   "cell_type": "code",
   "execution_count": 8,
   "id": "2b7e0731",
   "metadata": {},
   "outputs": [
    {
     "data": {
      "text/plain": [
       "[0, 1, 500, 0, 'Dassl', 0.0001, 0]"
      ]
     },
     "execution_count": 8,
     "metadata": {},
     "output_type": "execute_result"
    }
   ],
   "source": [
    "dym.getExperiment()"
   ]
  },
  {
   "cell_type": "code",
   "execution_count": 17,
   "id": "e459748d",
   "metadata": {},
   "outputs": [
    {
     "ename": "DymolaFunctionException",
     "evalue": "Failed to parse response from Dymola. Error when calling Dymola function \"simulateModel\".",
     "output_type": "error",
     "traceback": [
      "\u001b[1;31m---------------------------------------------------------------------------\u001b[0m",
      "\u001b[1;31mDymolaFunctionException\u001b[0m                   Traceback (most recent call last)",
      "\u001b[1;32m~\\.conda\\envs\\myenv\\lib\\site-packages\\dymola.egg\\dymola\\dymola_interface_internal.py\u001b[0m in \u001b[0;36m_call_dymola_function\u001b[1;34m(self, cmd, params)\u001b[0m\n\u001b[0;32m    430\u001b[0m                     \u001b[0mself\u001b[0m\u001b[1;33m.\u001b[0m\u001b[0m_print_debug_message\u001b[0m\u001b[1;33m(\u001b[0m\u001b[0mmsg\u001b[0m\u001b[1;33m)\u001b[0m\u001b[1;33m\u001b[0m\u001b[1;33m\u001b[0m\u001b[0m\n\u001b[1;32m--> 431\u001b[1;33m                     \u001b[1;32mraise\u001b[0m \u001b[0mDymolaFunctionException\u001b[0m\u001b[1;33m(\u001b[0m\u001b[0mmsg\u001b[0m\u001b[1;33m)\u001b[0m\u001b[1;33m\u001b[0m\u001b[1;33m\u001b[0m\u001b[0m\n\u001b[0m\u001b[0;32m    432\u001b[0m                 \u001b[0mresponse_id\u001b[0m \u001b[1;33m=\u001b[0m \u001b[0mobj\u001b[0m\u001b[1;33m[\u001b[0m\u001b[1;34m\"id\"\u001b[0m\u001b[1;33m]\u001b[0m\u001b[1;33m\u001b[0m\u001b[1;33m\u001b[0m\u001b[0m\n",
      "\u001b[1;31mDymolaFunctionException\u001b[0m: Error when calling Dymola function \"simulateModel\".",
      "\nDuring handling of the above exception, another exception occurred:\n",
      "\u001b[1;31mDymolaFunctionException\u001b[0m                   Traceback (most recent call last)",
      "\u001b[1;32m<ipython-input-17-f366ec0fc908>\u001b[0m in \u001b[0;36m<module>\u001b[1;34m\u001b[0m\n\u001b[0;32m      2\u001b[0m \u001b[1;33m\u001b[0m\u001b[0m\n\u001b[0;32m      3\u001b[0m \u001b[0msimulation_setup\u001b[0m \u001b[1;33m=\u001b[0m \u001b[1;33m{\u001b[0m\u001b[1;34m'stopTime'\u001b[0m\u001b[1;33m:\u001b[0m\u001b[1;36m10\u001b[0m\u001b[1;33m,\u001b[0m \u001b[1;34m'startTime'\u001b[0m\u001b[1;33m:\u001b[0m\u001b[1;36m0\u001b[0m\u001b[1;33m,\u001b[0m \u001b[1;34m'tolerance'\u001b[0m\u001b[1;33m:\u001b[0m\u001b[1;36m0.0001\u001b[0m\u001b[1;33m,\u001b[0m \u001b[1;34m'clearing_time'\u001b[0m\u001b[1;33m:\u001b[0m\u001b[1;36m1\u001b[0m\u001b[1;33m,\u001b[0m \u001b[1;34m'numberOfIntervals'\u001b[0m\u001b[1;33m:\u001b[0m\u001b[1;36m1000\u001b[0m\u001b[1;33m,\u001b[0m \u001b[1;34m'method'\u001b[0m\u001b[1;33m:\u001b[0m\u001b[1;34m'Dassl'\u001b[0m\u001b[1;33m,\u001b[0m \u001b[1;34m'fixedstepsize'\u001b[0m\u001b[1;33m:\u001b[0m\u001b[1;32mFalse\u001b[0m\u001b[1;33m,\u001b[0m\u001b[1;33m}\u001b[0m\u001b[1;33m\u001b[0m\u001b[1;33m\u001b[0m\u001b[0m\n\u001b[1;32m----> 4\u001b[1;33m res_dyn_sim = dym.simulateModel('KundurSMIB.SMIB',\n\u001b[0m\u001b[0;32m      5\u001b[0m                               \u001b[0mstartTime\u001b[0m \u001b[1;33m=\u001b[0m \u001b[0msimulation_setup\u001b[0m\u001b[1;33m[\u001b[0m\u001b[1;34m'startTime'\u001b[0m\u001b[1;33m]\u001b[0m\u001b[1;33m,\u001b[0m\u001b[1;33m\u001b[0m\u001b[1;33m\u001b[0m\u001b[0m\n\u001b[0;32m      6\u001b[0m                               \u001b[0mstopTime\u001b[0m \u001b[1;33m=\u001b[0m \u001b[0msimulation_setup\u001b[0m\u001b[1;33m[\u001b[0m\u001b[1;34m'stopTime'\u001b[0m\u001b[1;33m]\u001b[0m\u001b[1;33m,\u001b[0m\u001b[1;33m\u001b[0m\u001b[1;33m\u001b[0m\u001b[0m\n",
      "\u001b[1;32m~\\.conda\\envs\\myenv\\lib\\site-packages\\dymola.egg\\dymola\\dymola_interface.py\u001b[0m in \u001b[0;36msimulateModel\u001b[1;34m(self, problem, startTime, stopTime, numberOfIntervals, outputInterval, method, tolerance, fixedstepsize, resultFile)\u001b[0m\n\u001b[0;32m   2675\u001b[0m         \u001b[0mparams\u001b[0m\u001b[1;33m.\u001b[0m\u001b[0mappend\u001b[0m\u001b[1;33m(\u001b[0m\u001b[0mfixedstepsize\u001b[0m\u001b[1;33m)\u001b[0m\u001b[1;33m\u001b[0m\u001b[1;33m\u001b[0m\u001b[0m\n\u001b[0;32m   2676\u001b[0m         \u001b[0mparams\u001b[0m\u001b[1;33m.\u001b[0m\u001b[0mappend\u001b[0m\u001b[1;33m(\u001b[0m\u001b[0mresultFile\u001b[0m\u001b[1;33m)\u001b[0m\u001b[1;33m\u001b[0m\u001b[1;33m\u001b[0m\u001b[0m\n\u001b[1;32m-> 2677\u001b[1;33m         \u001b[0mresult\u001b[0m \u001b[1;33m=\u001b[0m \u001b[0mself\u001b[0m\u001b[1;33m.\u001b[0m\u001b[0m_call_dymola_function\u001b[0m\u001b[1;33m(\u001b[0m\u001b[1;34m\"simulateModel\"\u001b[0m\u001b[1;33m,\u001b[0m \u001b[0mparams\u001b[0m\u001b[1;33m)\u001b[0m\u001b[1;33m\u001b[0m\u001b[1;33m\u001b[0m\u001b[0m\n\u001b[0m\u001b[0;32m   2678\u001b[0m         \u001b[1;32mreturn\u001b[0m \u001b[0mself\u001b[0m\u001b[1;33m.\u001b[0m\u001b[0m_parse_response_and_return\u001b[0m\u001b[1;33m(\u001b[0m\u001b[0mresult\u001b[0m\u001b[1;33m,\u001b[0m \u001b[1;34m\"bool\"\u001b[0m\u001b[1;33m)\u001b[0m\u001b[1;33m\u001b[0m\u001b[1;33m\u001b[0m\u001b[0m\n\u001b[0;32m   2679\u001b[0m \u001b[1;33m\u001b[0m\u001b[0m\n",
      "\u001b[1;32m~\\.conda\\envs\\myenv\\lib\\site-packages\\dymola.egg\\dymola\\dymola_interface_internal.py\u001b[0m in \u001b[0;36m_call_dymola_function\u001b[1;34m(self, cmd, params)\u001b[0m\n\u001b[0;32m    440\u001b[0m             \u001b[0mmsg\u001b[0m \u001b[1;33m=\u001b[0m \u001b[1;34m\"Failed to parse response from Dymola. \"\u001b[0m \u001b[1;33m+\u001b[0m \u001b[0mstr\u001b[0m\u001b[1;33m(\u001b[0m\u001b[0mex\u001b[0m\u001b[1;33m)\u001b[0m\u001b[1;33m\u001b[0m\u001b[1;33m\u001b[0m\u001b[0m\n\u001b[0;32m    441\u001b[0m             \u001b[0mself\u001b[0m\u001b[1;33m.\u001b[0m\u001b[0m_print_debug_message\u001b[0m\u001b[1;33m(\u001b[0m\u001b[0mmsg\u001b[0m\u001b[1;33m)\u001b[0m\u001b[1;33m\u001b[0m\u001b[1;33m\u001b[0m\u001b[0m\n\u001b[1;32m--> 442\u001b[1;33m             \u001b[1;32mraise\u001b[0m \u001b[0mDymolaFunctionException\u001b[0m\u001b[1;33m(\u001b[0m\u001b[0mmsg\u001b[0m\u001b[1;33m)\u001b[0m\u001b[1;33m\u001b[0m\u001b[1;33m\u001b[0m\u001b[0m\n\u001b[0m\u001b[0;32m    443\u001b[0m \u001b[1;33m\u001b[0m\u001b[0m\n\u001b[0;32m    444\u001b[0m         \u001b[0mself\u001b[0m\u001b[1;33m.\u001b[0m\u001b[0m_print_debug_message\u001b[0m\u001b[1;33m(\u001b[0m\u001b[1;34m\"Returning result.\"\u001b[0m\u001b[1;33m)\u001b[0m\u001b[1;33m\u001b[0m\u001b[1;33m\u001b[0m\u001b[0m\n",
      "\u001b[1;31mDymolaFunctionException\u001b[0m: Failed to parse response from Dymola. Error when calling Dymola function \"simulateModel\"."
     ]
    }
   ],
   "source": [
    "# Dynamical simulation\n",
    "\n",
    "simulation_setup = {'stopTime':10, 'startTime':0, 'tolerance':0.0001, 'clearing_time':1, 'numberOfIntervals':1000, 'method':'Dassl', 'fixedstepsize':False,}\n",
    "res_dyn_sim = dym.simulateModel('KundurSMIB.SMIB',\n",
    "                              startTime = simulation_setup['startTime'],\n",
    "                              stopTime = simulation_setup['stopTime'],\n",
    "                              numberOfIntervals = simulation_setup['numberOfIntervals'],\n",
    "                              method = simulation_setup['method'],\n",
    "                              tolerance = simulation_setup['tolerance'],\n",
    "                              fixedstepsize = simulation_setup['fixedstepsize'],\n",
    "                              resultFile = \"res\")\n",
    "\n",
    "if res_dyn_sim and verbose: print(f\"{n_proc}: Simulation (sc {n_scenario + 1}) Completed\")\n",
    "\n",
    "res_imp_cond = dymola.importInitial(os.path.join(path_wd, 'dsfinal.txt'))"
   ]
  },
  {
   "cell_type": "code",
   "execution_count": null,
   "id": "263f46a8",
   "metadata": {},
   "outputs": [],
   "source": []
  }
 ],
 "metadata": {
  "kernelspec": {
   "display_name": "Python [conda env:.conda-myenv] *",
   "language": "python",
   "name": "conda-env-.conda-myenv-py"
  },
  "language_info": {
   "codemirror_mode": {
    "name": "ipython",
    "version": 3
   },
   "file_extension": ".py",
   "mimetype": "text/x-python",
   "name": "python",
   "nbconvert_exporter": "python",
   "pygments_lexer": "ipython3",
   "version": "3.9.2"
  }
 },
 "nbformat": 4,
 "nbformat_minor": 5
}
